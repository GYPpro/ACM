{
 "cells": [
  {
   "cell_type": "code",
   "execution_count": 2,
   "metadata": {},
   "outputs": [
    {
     "name": "stdout",
     "output_type": "stream",
     "text": [
      "628\n"
     ]
    }
   ],
   "source": [
    "x,y = [int(x) for x in input().split()]\n",
    "print(eval(\"x+y\"))"
   ]
  },
  {
   "cell_type": "code",
   "execution_count": 3,
   "metadata": {},
   "outputs": [
    {
     "ename": "SyntaxError",
     "evalue": "invalid syntax. Maybe you meant '==' or ':=' instead of '='? (1625322269.py, line 6)",
     "output_type": "error",
     "traceback": [
      "\u001b[1;36m  Cell \u001b[1;32mIn[3], line 6\u001b[1;36m\u001b[0m\n\u001b[1;33m    f = x*1000000,e=1000000\u001b[0m\n\u001b[1;37m    ^\u001b[0m\n\u001b[1;31mSyntaxError\u001b[0m\u001b[1;31m:\u001b[0m invalid syntax. Maybe you meant '==' or ':=' instead of '='?\n"
     ]
    }
   ],
   "source": [
    "import math as mt\n",
    "T = 0\n",
    "mod = 998244353\n",
    "T = int(input())\n",
    "def truv(x:float):\n",
    "    f = x*1000000,e=1000000\n",
    "    t = mt.gcd(f,e)\n",
    "    return f/t,e/t\n",
    "def binpow(x:int,y:int):\n",
    "    res = 1\n",
    "    while y > 0 :\n",
    "        if y % 2 == 1 :\n",
    "            res = res * x % mod\n",
    "        x = x * x % mod\n",
    "        y >>= 1\n",
    "    return res\n",
    "def inv(x:int):\n",
    "    return binpow(x,mod-2)\n",
    "\n",
    "while T:\n",
    "    T -= 1\n",
    "    #--------MAIN-------\n",
    "    n = int(input())\n",
    "    verlst = []\n",
    "    celdict = {}\n",
    "    for i in range(n):\n",
    "        tmp = input().split()\n",
    "        verlst.append(tmp[0])\n",
    "    celdict[tmp[0]] = []\n",
    "    # [y]-[i]-[u,v]\n",
    "    j = 2\n",
    "    rg = len(tmp)\n",
    "    while j < rg:\n",
    "        celdict[tmp[0]].append((int()))\n"
   ]
  },
  {
   "cell_type": "code",
   "execution_count": null,
   "metadata": {},
   "outputs": [],
   "source": [
    "）"
   ]
  }
 ],
 "metadata": {
  "kernelspec": {
   "display_name": "base",
   "language": "python",
   "name": "python3"
  },
  "language_info": {
   "codemirror_mode": {
    "name": "ipython",
    "version": 3
   },
   "file_extension": ".py",
   "mimetype": "text/x-python",
   "name": "python",
   "nbconvert_exporter": "python",
   "pygments_lexer": "ipython3",
   "version": "3.11.5"
  }
 },
 "nbformat": 4,
 "nbformat_minor": 2
}
