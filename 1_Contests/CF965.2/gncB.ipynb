{
 "cells": [
  {
   "cell_type": "code",
   "execution_count": 1,
   "metadata": {},
   "outputs": [],
   "source": [
    "OUT = open(\"01.in\",\"w\")\n",
    "s = \"10000\\n\"\n",
    "for x in range(10000):\n",
    "    s += \"20\\n1 2 3 4 5 6 7 8 9 10 11 12 13 14 15 16 17 18 19 20\\n\";\n",
    "OUT.write(s)\n",
    "OUT.close()"
   ]
  },
  {
   "cell_type": "code",
   "execution_count": 5,
   "metadata": {},
   "outputs": [],
   "source": [
    "IN = open(\"01.out\",\"w\")\n",
    "# s = \"10000\\n\"\n",
    "s = \" \"\n",
    "for x in range(10000):\n",
    "    s += \"20 1 2 3 4 5 6 7 8 9 10 11 12 13 14 15 16 17 18 19\\n\";\n",
    "IN.write(s)\n",
    "IN.close()"
   ]
  },
  {
   "cell_type": "code",
   "execution_count": null,
   "metadata": {},
   "outputs": [],
   "source": []
  }
 ],
 "metadata": {
  "kernelspec": {
   "display_name": "base",
   "language": "python",
   "name": "python3"
  },
  "language_info": {
   "codemirror_mode": {
    "name": "ipython",
    "version": 3
   },
   "file_extension": ".py",
   "mimetype": "text/x-python",
   "name": "python",
   "nbconvert_exporter": "python",
   "pygments_lexer": "ipython3",
   "version": "3.11.5"
  }
 },
 "nbformat": 4,
 "nbformat_minor": 2
}
