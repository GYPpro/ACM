{
 "cells": [
  {
   "cell_type": "code",
   "execution_count": null,
   "metadata": {},
   "outputs": [],
   "source": [
    "s = input()\n",
    "if (\"codeforces\"+s).find(s) == 10:\n",
    "    print(\"YES\\n\")\n",
    "else :\n",
    "    print(\"NO\\n\")\n",
    "    # cout << \"YES\\n\"\n",
    "    "
   ]
  }
 ],
 "metadata": {
  "language_info": {
   "name": "python"
  }
 },
 "nbformat": 4,
 "nbformat_minor": 2
}
