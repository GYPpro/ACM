{
 "cells": [
  {
   "cell_type": "code",
   "execution_count": 1,
   "metadata": {},
   "outputs": [
    {
     "ename": "ValueError",
     "evalue": "invalid literal for int() with base 10: '2 3 2 http://acm.hit.edu.cn/problemset/1003 http://acm.hit.edu.cn/problemset/1002 http://acm.hit.edu.cn/problemset/1001 4 1 http://acm.hit.edu.cn/problemset/1001 http://acm.hit.edu.cn/problemset/2001",
     "output_type": "error",
     "traceback": [
      "\u001b[1;31m---------------------------------------------------------------------------\u001b[0m",
      "\u001b[1;31mValueError\u001b[0m                                Traceback (most recent call last)",
      "Cell \u001b[1;32mIn[1], line 1\u001b[0m\n\u001b[1;32m----> 1\u001b[0m T \u001b[38;5;241m=\u001b[39m \u001b[38;5;28mint\u001b[39m(\u001b[38;5;28minput\u001b[39m())\n\u001b[0;32m      2\u001b[0m \u001b[38;5;28;01mwhile\u001b[39;00m T \u001b[38;5;241m>\u001b[39m \u001b[38;5;241m0\u001b[39m:\n\u001b[0;32m      3\u001b[0m     T \u001b[38;5;241m-\u001b[39m\u001b[38;5;241m=\u001b[39m \u001b[38;5;241m1\u001b[39m;\n",
      "\u001b[1;31mValueError\u001b[0m: invalid literal for int() with base 10: '2 3 2 http://acm.hit.edu.cn/problemset/1003 http://acm.hit.edu.cn/problemset/1002 http://acm.hit.edu.cn/problemset/1001 4 1 http://acm.hit.edu.cn/problemset/1001 http://acm.hit.edu.cn/problemset/2001"
     ]
    }
   ],
   "source": [
    "T = int(input())\n",
    "while T > 0:\n",
    "    T -= 1;\n",
    "    n,k = [int(x) for x in input().split()]\n",
    "    lst = []\n",
    "    for i in range(n):\n",
    "        lst.append(int(input().split('/')[4]))\n",
    "    lst.sort()\n",
    "    for i in range(k):\n",
    "        print(lst[i],end = ' ' )\n",
    "    print()"
   ]
  },
  {
   "cell_type": "code",
   "execution_count": null,
   "metadata": {},
   "outputs": [],
   "source": []
  }
 ],
 "metadata": {
  "kernelspec": {
   "display_name": "base",
   "language": "python",
   "name": "python3"
  },
  "language_info": {
   "codemirror_mode": {
    "name": "ipython",
    "version": 3
   },
   "file_extension": ".py",
   "mimetype": "text/x-python",
   "name": "python",
   "nbconvert_exporter": "python",
   "pygments_lexer": "ipython3",
   "version": "3.11.5"
  }
 },
 "nbformat": 4,
 "nbformat_minor": 2
}
