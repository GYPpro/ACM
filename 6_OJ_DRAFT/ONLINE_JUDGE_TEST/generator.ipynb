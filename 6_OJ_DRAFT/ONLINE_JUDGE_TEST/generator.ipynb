{
 "cells": [
  {
   "cell_type": "code",
   "execution_count": 17,
   "metadata": {},
   "outputs": [],
   "source": [
    "import numpy as np\n",
    "import pandas as pd"
   ]
  },
  {
   "cell_type": "code",
   "execution_count": 43,
   "metadata": {},
   "outputs": [],
   "source": [
    "TESTCASE_NUMBER = 5\n",
    "TESTCASE_TYPE = 1\n",
    "IN_VALUE = \"\"\n",
    "OUT_VALUE = \"\"\n",
    "\n",
    "n = 1000000\n",
    "IN_VALUE += str(TESTCASE_TYPE) + \"\\n\"\n",
    "IN_VALUE += str(n) + \"\\n\"\n",
    "LIST = [IN_VALUE]"
   ]
  },
  {
   "cell_type": "code",
   "execution_count": 44,
   "metadata": {},
   "outputs": [],
   "source": [
    "for x in range(1000000):\n",
    "    # IN_VALUE = IN_VALUE.join([IN_VALUE,])\n",
    "    LIST.append(str(np.random.randint(1,1000000000)) + \" \")\n",
    "IN_VALUE = \"\".join(LIST)"
   ]
  },
  {
   "cell_type": "code",
   "execution_count": 45,
   "metadata": {},
   "outputs": [],
   "source": [
    "IN = open(str(TESTCASE_NUMBER)+\".in\",\"w\");\n",
    "OUT = open(str(TESTCASE_NUMBER)+\".out\",\"w\");\n",
    "IN.write(IN_VALUE)\n",
    "OUT.write(OUT_VALUE)\n",
    "IN.close()\n",
    "OUT.close()"
   ]
  },
  {
   "cell_type": "code",
   "execution_count": 14,
   "metadata": {},
   "outputs": [
    {
     "data": {
      "text/plain": [
       "'511739'"
      ]
     },
     "execution_count": 14,
     "metadata": {},
     "output_type": "execute_result"
    }
   ],
   "source": [
    "IN_VALUE"
   ]
  },
  {
   "cell_type": "code",
   "execution_count": null,
   "metadata": {},
   "outputs": [],
   "source": []
  }
 ],
 "metadata": {
  "kernelspec": {
   "display_name": "base",
   "language": "python",
   "name": "python3"
  },
  "language_info": {
   "codemirror_mode": {
    "name": "ipython",
    "version": 3
   },
   "file_extension": ".py",
   "mimetype": "text/x-python",
   "name": "python",
   "nbconvert_exporter": "python",
   "pygments_lexer": "ipython3",
   "version": "3.11.5"
  }
 },
 "nbformat": 4,
 "nbformat_minor": 2
}
