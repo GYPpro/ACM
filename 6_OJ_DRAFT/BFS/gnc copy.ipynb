{
 "cells": [
  {
   "cell_type": "code",
   "execution_count": 1,
   "metadata": {},
   "outputs": [],
   "source": [
    "import pandas as pd\n",
    "import numpy as np\n",
    "import subprocess as sp\n",
    "import math as mt\n",
    "import os"
   ]
  },
  {
   "cell_type": "code",
   "execution_count": 2,
   "metadata": {},
   "outputs": [],
   "source": [
    "def randi(p:int, q:int) -> int:\n",
    "    # p < q , p/q的概率返回1\n",
    "    flag = np.random.randint(1,q+1)\n",
    "    if flag <= p:\n",
    "        return 1\n",
    "    else:\n",
    "        return 0"
   ]
  },
  {
   "cell_type": "code",
   "execution_count": 41,
   "metadata": {},
   "outputs": [],
   "source": [
    "def gncIn1(n:int,m:int):\n",
    "    RTSTR = []\n",
    "    RTSTR.append(f\"{n} {m}\\n\")\n",
    "    LINE = []\n",
    "    for i in range(n):\n",
    "        LINE = []\n",
    "        for j in range(m):\n",
    "            flag = randi(1,n)\n",
    "            if flag == 1:\n",
    "                LINE.append(\"#\")\n",
    "            else:\n",
    "                LINE.append(\".\")\n",
    "        RTSTR.append(\"\".join(LINE) + \"\\n\")\n",
    "    k = np.random.randint(n+m,n*m+1)\n",
    "    k = min(k,int(2e4))\n",
    "    x1= np.random.randint(1,n+1)\n",
    "    x2= np.random.randint(1,n+1)\n",
    "    y1= np.random.randint(1,m+1)\n",
    "    y2= np.random.randint(1,m+1)\n",
    "    RTSTR.append(f\"{x1} {y1} {x2} {y2}\\n\")\n",
    "    RTSTR.append(f\"{k}\\n\")\n",
    "    for i in range(k):\n",
    "        x1= np.random.randint(1,n+1)\n",
    "        x2= np.random.randint(1,n+1)\n",
    "        y1= np.random.randint(1,m+1)\n",
    "        y2= np.random.randint(1,m+1)\n",
    "        RTSTR.append(f\"{x1} {y1} {x2} {y2}\\n\")\n",
    "    return \"\".join(RTSTR)"
   ]
  },
  {
   "cell_type": "code",
   "execution_count": 42,
   "metadata": {},
   "outputs": [],
   "source": [
    "def gncIn2(n:int,m:int):\n",
    "    RTSTR = []\n",
    "    RTSTR.append(f\"{n} {m}\\n\")\n",
    "    LINE = []\n",
    "    for i in range(n):\n",
    "        LINE = []\n",
    "        for j in range(m):\n",
    "            flag = randi(1,10)\n",
    "            if flag == 1:\n",
    "                LINE.append(\"#\")\n",
    "            else:\n",
    "                LINE.append(\".\")\n",
    "        RTSTR.append(\"\".join(LINE) + \"\\n\")\n",
    "    k = np.random.randint(1,n+m)\n",
    "    k = min(k,int(2e4))\n",
    "    x1= np.random.randint(1,n+1)\n",
    "    x2= np.random.randint(1,n+1)\n",
    "    y1= np.random.randint(1,m+1)\n",
    "    y2= np.random.randint(1,m+1)\n",
    "    RTSTR.append(f\"{x1} {y1} {x2} {y2}\\n\")\n",
    "    RTSTR.append(f\"{k}\\n\")\n",
    "    for i in range(k):\n",
    "        x1= np.random.randint(1,n+1)\n",
    "        x2= np.random.randint(1,n+1)\n",
    "        y1= np.random.randint(1,m+1)\n",
    "        y2= np.random.randint(1,m+1)\n",
    "        RTSTR.append(f\"{x1} {y1} {x2} {y2}\\n\")\n",
    "    return \"\".join(RTSTR)"
   ]
  },
  {
   "cell_type": "code",
   "execution_count": 43,
   "metadata": {},
   "outputs": [],
   "source": [
    "def gncIn3(n:int,m:int):\n",
    "    RTSTR = []\n",
    "    RTSTR.append(f\"{n} {m}\\n\")\n",
    "    LINE = []\n",
    "    for i in range(n):\n",
    "        LINE = []\n",
    "        for j in range(m):\n",
    "            flag = randi(n,n+1)\n",
    "            if flag == 1:\n",
    "                LINE.append(\"#\")\n",
    "            else:\n",
    "                LINE.append(\".\")\n",
    "        RTSTR.append(\"\".join(LINE) + \"\\n\")\n",
    "    k = np.random.randint(n*m//2,n*m+1)\n",
    "    k = min(k,int(2e4))\n",
    "    x1= np.random.randint(1,n+1)\n",
    "    x2= np.random.randint(1,n+1)\n",
    "    y1= np.random.randint(1,m+1)\n",
    "    y2= np.random.randint(1,m+1)\n",
    "    RTSTR.append(f\"{x1} {y1} {x2} {y2}\\n\")\n",
    "    RTSTR.append(f\"{k}\\n\")\n",
    "    for i in range(k):\n",
    "        x1= np.random.randint(1,n+1)\n",
    "        x2= np.random.randint(1,n+1)\n",
    "        y1= np.random.randint(1,m+1)\n",
    "        y2= np.random.randint(1,m+1)\n",
    "        RTSTR.append(f\"{x1} {y1} {x2} {y2}\\n\")\n",
    "    return \"\".join(RTSTR)"
   ]
  },
  {
   "cell_type": "code",
   "execution_count": 32,
   "metadata": {},
   "outputs": [
    {
     "name": "stdout",
     "output_type": "stream",
     "text": [
      "5 5\n",
      "#####\n",
      "#####\n",
      "#.#..\n",
      "#.###\n",
      "#####\n",
      "5 3 4 5\n",
      "14\n",
      "1 3 4 1\n",
      "2 1 2 1\n",
      "2 1 1 1\n",
      "2 3 1 3\n",
      "3 1 3 5\n",
      "2 3 5 1\n",
      "5 2 2 5\n",
      "2 2 2 2\n",
      "2 3 3 3\n",
      "1 5 3 4\n",
      "4 4 5 4\n",
      "4 2 2 4\n",
      "4 2 4 5\n",
      "3 1 1 2\n",
      "\n"
     ]
    }
   ],
   "source": [
    "print(gncIn3(5,5))"
   ]
  },
  {
   "cell_type": "code",
   "execution_count": 33,
   "metadata": {},
   "outputs": [],
   "source": [
    "def std(inv:str):\n",
    "    INF = open(f\"temp.in\",\"w\")\n",
    "    INF.write(inv)\n",
    "    INF.close()\n",
    "    sp.run(\"std.exe\")\n",
    "    return open(\"temp.out\",\"r\").read()"
   ]
  },
  {
   "cell_type": "code",
   "execution_count": 34,
   "metadata": {},
   "outputs": [],
   "source": [
    "def checker(s:str):\n",
    "    s = s.split(\"\\n\")\n",
    "    T = int(s[0])\n",
    "    expectLines = 1\n",
    "    i = 1\n",
    "    # print( len(s) )\n",
    "    while i < len(s)-1:\n",
    "        # print(i)\n",
    "        tmp = s[i].split(\" \")\n",
    "        expectLines += int(tmp[1]) + 1\n",
    "        i += int(tmp[1]) + 1\n",
    "    print(expectLines,end=\":\")\n",
    "    if len(s) != expectLines + 1:\n",
    "        return False\n",
    "    else :\n",
    "        return True"
   ]
  },
  {
   "cell_type": "code",
   "execution_count": 35,
   "metadata": {},
   "outputs": [
    {
     "name": "stdout",
     "output_type": "stream",
     "text": [
      "5 5\n",
      ".....\n",
      ".....\n",
      ".....\n",
      ".....\n",
      "....#\n",
      "3 5 1 5\n",
      "5\n",
      "1 3 3 1\n",
      "4 2 3 5\n",
      "4 3 2 1\n",
      "3 5 4 2\n",
      "3 2 4 5\n",
      "\n",
      "2\n",
      "\n"
     ]
    }
   ],
   "source": [
    "n = 10\n",
    "a = gncIn2(5,5)\n",
    "# b = gncOutput(n)}\n",
    "print(a)\n",
    "# print(checker(a))\n",
    "print(std(a))"
   ]
  },
  {
   "cell_type": "code",
   "execution_count": 36,
   "metadata": {},
   "outputs": [],
   "source": [
    "def gncExp(i:int,INSTR:str):\n",
    "    # if checker(INSTR) == False:\n",
    "    #     print(\"ERROR\")\n",
    "    #     return\n",
    "    # else : print(\"PASS\")\n",
    "    INF = open(f\"{i}.in\",\"w\")\n",
    "    OUTF = open(f\"{i}.out\",\"w\")\n",
    "    # INSTR = gncIn(n,q,gncCommonTree(n,t),gncCommonQue(n,q))\n",
    "    OUTSTR = std(INSTR)\n",
    "    # print(OUTSTR)\n",
    "    INF.write(INSTR)\n",
    "    OUTF.write(OUTSTR)\n",
    "    INF.close()\n",
    "    OUTF.close()"
   ]
  },
  {
   "cell_type": "code",
   "execution_count": null,
   "metadata": {},
   "outputs": [
    {
     "name": "stdout",
     "output_type": "stream",
     "text": [
      "YES\n",
      "YES\n",
      "\n"
     ]
    }
   ],
   "source": [
    "# gncExp(\n",
    "#     0,\n",
    "#     gncSpec2(50,2)\n",
    "# )"
   ]
  },
  {
   "cell_type": "code",
   "execution_count": 44,
   "metadata": {},
   "outputs": [],
   "source": [
    "TESTCASES_NUMBER = 0\n",
    "N = int(1e3)"
   ]
  },
  {
   "cell_type": "code",
   "execution_count": 45,
   "metadata": {},
   "outputs": [],
   "source": [
    "# t = 1\n",
    "for i in range(10):\n",
    "    TESTCASES_NUMBER += 1\n",
    "    gncExp(\n",
    "        TESTCASES_NUMBER,\n",
    "        gncIn1(N,N)\n",
    "    )"
   ]
  },
  {
   "cell_type": "code",
   "execution_count": 46,
   "metadata": {},
   "outputs": [],
   "source": [
    "# t = 1\n",
    "for i in range(10):\n",
    "    TESTCASES_NUMBER += 1\n",
    "    gncExp(\n",
    "        TESTCASES_NUMBER,\n",
    "        gncIn2(N,N)\n",
    "    )"
   ]
  },
  {
   "cell_type": "code",
   "execution_count": 47,
   "metadata": {},
   "outputs": [],
   "source": [
    "# t = 1\n",
    "for i in range(10):\n",
    "    TESTCASES_NUMBER += 1\n",
    "    gncExp(\n",
    "        TESTCASES_NUMBER,\n",
    "        gncIn3(N,N)\n",
    "    )"
   ]
  },
  {
   "cell_type": "code",
   "execution_count": null,
   "metadata": {},
   "outputs": [
    {
     "name": "stdout",
     "output_type": "stream",
     "text": [
      "43780:PASS\n",
      "75058:PASS\n",
      "58735:PASS\n",
      "50558:PASS\n",
      "41689:PASS\n",
      "53528:PASS\n",
      "49918:PASS\n",
      "66725:PASS\n",
      "73709:PASS\n",
      "63367:PASS\n"
     ]
    }
   ],
   "source": []
  },
  {
   "cell_type": "code",
   "execution_count": 246,
   "metadata": {},
   "outputs": [
    {
     "name": "stdout",
     "output_type": "stream",
     "text": [
      "101001:PASS\n",
      "101001:PASS\n",
      "101001:PASS\n",
      "101001:PASS\n",
      "101001:PASS\n",
      "101001:PASS\n",
      "101001:PASS\n",
      "101001:PASS\n",
      "101001:PASS\n",
      "101001:PASS\n",
      "101001:PASS\n",
      "101001:PASS\n",
      "101001:PASS\n",
      "101001:PASS\n",
      "101001:PASS\n"
     ]
    }
   ],
   "source": [
    "# t = 1\n",
    "for i in range(15):\n",
    "    TESTCASES_NUMBER += 1\n",
    "    gncExp(\n",
    "        TESTCASES_NUMBER,\n",
    "        gncSpec2(N,100)\n",
    "    )"
   ]
  },
  {
   "cell_type": "markdown",
   "metadata": {},
   "source": [
    "## 以下弃用"
   ]
  },
  {
   "cell_type": "code",
   "execution_count": 230,
   "metadata": {},
   "outputs": [
    {
     "name": "stdout",
     "output_type": "stream",
     "text": [
      "51619:PASS\n",
      "50545:PASS\n",
      "51673:PASS\n",
      "52069:PASS\n",
      "52157:PASS\n",
      "52804:PASS\n",
      "53335:PASS\n",
      "53631:PASS\n",
      "50461:PASS\n",
      "52242:PASS\n",
      "50628:PASS\n",
      "50281:PASS\n",
      "52322:PASS\n",
      "51753:PASS\n",
      "51979:PASS\n",
      "49717:PASS\n",
      "52873:PASS\n",
      "52515:PASS\n",
      "51246:PASS\n",
      "50534:PASS\n",
      "53767:PASS\n",
      "51229:PASS\n",
      "51793:PASS\n",
      "51603:PASS\n",
      "52010:PASS\n",
      "51721:PASS\n",
      "51188:PASS\n",
      "52135:PASS\n",
      "51260:PASS\n",
      "51496:PASS\n",
      "51749:PASS\n",
      "51910:PASS\n",
      "51786:PASS\n",
      "52593:PASS\n",
      "53348:PASS\n",
      "52494:PASS\n",
      "52025:PASS\n",
      "51214:PASS\n",
      "51980:PASS\n",
      "50800:PASS\n"
     ]
    }
   ],
   "source": [
    "# t = 1\n",
    "for i in range(5):\n",
    "    for i in [-100000,-1000,-10,-1,1,10,1000,100000]:\n",
    "        # t = 1\n",
    "        TESTCASES_NUMBER += 1\n",
    "        gncExp(\n",
    "            TESTCASES_NUMBER,\n",
    "            gncIn_1(N,N//100,i,2)\n",
    "        )"
   ]
  },
  {
   "cell_type": "code",
   "execution_count": 231,
   "metadata": {},
   "outputs": [
    {
     "name": "stdout",
     "output_type": "stream",
     "text": [
      "43184:PASS\n",
      "43521:PASS\n",
      "42434:PASS\n",
      "42381:PASS\n",
      "42722:PASS\n",
      "41372:PASS\n",
      "44777:PASS\n",
      "43133:PASS\n",
      "42438:PASS\n",
      "42893:PASS\n"
     ]
    }
   ],
   "source": [
    "# t = 1\n",
    "for i in range(10):\n",
    "    TESTCASES_NUMBER += 1\n",
    "    gncExp(\n",
    "        TESTCASES_NUMBER,\n",
    "        gncIn_2(N,N//100,0,2)\n",
    "    )"
   ]
  },
  {
   "cell_type": "code",
   "execution_count": 232,
   "metadata": {},
   "outputs": [
    {
     "name": "stdout",
     "output_type": "stream",
     "text": [
      "42151:PASS\n",
      "42335:PASS\n",
      "42483:PASS\n",
      "43226:PASS\n",
      "42950:PASS\n",
      "43024:PASS\n",
      "43171:PASS\n",
      "42890:PASS\n",
      "42654:PASS\n",
      "44367:PASS\n",
      "44554:PASS\n",
      "42012:PASS\n",
      "42361:PASS\n",
      "43694:PASS\n",
      "40916:PASS\n",
      "43530:PASS\n",
      "42131:PASS\n",
      "42741:PASS\n",
      "43662:PASS\n",
      "43731:PASS\n",
      "42132:PASS\n",
      "42810:PASS\n",
      "43620:PASS\n",
      "43428:PASS\n",
      "42285:PASS\n",
      "43841:PASS\n",
      "42755:PASS\n",
      "42930:PASS\n",
      "42724:PASS\n",
      "44236:PASS\n",
      "44171:PASS\n",
      "43780:PASS\n",
      "43160:PASS\n",
      "43257:PASS\n",
      "41870:PASS\n",
      "42966:PASS\n",
      "43438:PASS\n",
      "42938:PASS\n",
      "43350:PASS\n",
      "41144:PASS\n"
     ]
    }
   ],
   "source": [
    "# t = 1\n",
    "for i in range(5):\n",
    "    for i in [-100000,-1000,-10,-1,1,10,1000,100000]:\n",
    "        # t = 1\n",
    "        TESTCASES_NUMBER += 1\n",
    "        gncExp(\n",
    "            TESTCASES_NUMBER,\n",
    "            gncIn_2(N,N//100,i,2)\n",
    "        )"
   ]
  },
  {
   "cell_type": "code",
   "execution_count": 233,
   "metadata": {},
   "outputs": [
    {
     "name": "stdout",
     "output_type": "stream",
     "text": [
      "86014:PASS\n",
      "3925:PASS\n",
      "14673:PASS\n",
      "21595:PASS\n",
      "82992:PASS\n",
      "78288:PASS\n",
      "15582:PASS\n",
      "97563:PASS\n",
      "29880:PASS\n",
      "19814:PASS\n"
     ]
    }
   ],
   "source": [
    "# t = 1\n",
    "for i in range(10):\n",
    "    TESTCASES_NUMBER += 1\n",
    "    gncExp(\n",
    "        TESTCASES_NUMBER,\n",
    "        gncIn_2(N,1,0,2)\n",
    "    )"
   ]
  },
  {
   "cell_type": "code",
   "execution_count": 234,
   "metadata": {},
   "outputs": [
    {
     "name": "stdout",
     "output_type": "stream",
     "text": [
      "16124:PASS\n",
      "45623:PASS\n",
      "81198:PASS\n",
      "36449:PASS\n",
      "14037:PASS\n",
      "80087:PASS\n",
      "20449:PASS\n",
      "58330:PASS\n",
      "10188:PASS\n",
      "35238:PASS\n",
      "11030:PASS\n",
      "93444:PASS\n",
      "29395:PASS\n",
      "36137:PASS\n",
      "8583:PASS\n",
      "37036:PASS\n",
      "66079:PASS\n",
      "77484:PASS\n",
      "93720:PASS\n",
      "20727:PASS\n",
      "97411:PASS\n",
      "95854:PASS\n",
      "57703:PASS\n",
      "74839:PASS\n",
      "99250:PASS\n",
      "69967:PASS\n",
      "50869:PASS\n",
      "76693:PASS\n",
      "59886:PASS\n",
      "32803:PASS\n",
      "25107:PASS\n",
      "70444:PASS\n",
      "86307:PASS\n",
      "98121:PASS\n",
      "29166:PASS\n",
      "21580:PASS\n",
      "25877:PASS\n",
      "49221:PASS\n",
      "9872:PASS\n",
      "34152:PASS\n"
     ]
    }
   ],
   "source": [
    "# t = 1\n",
    "for i in range(5):\n",
    "    for i in [-100000,-1000,-10,-1,1,10,1000,100000]:\n",
    "        # t = 1\n",
    "        TESTCASES_NUMBER += 1\n",
    "        gncExp(\n",
    "            TESTCASES_NUMBER,\n",
    "            gncIn_2(N,1,i,2)\n",
    "        )"
   ]
  },
  {
   "cell_type": "code",
   "execution_count": 235,
   "metadata": {},
   "outputs": [
    {
     "name": "stdout",
     "output_type": "stream",
     "text": [
      "101001:PASS\n",
      "101001:PASS\n",
      "101001:PASS\n",
      "101001:PASS\n",
      "101001:PASS\n",
      "101001:PASS\n",
      "101001:PASS\n",
      "101001:PASS\n",
      "101001:PASS\n",
      "101001:PASS\n"
     ]
    }
   ],
   "source": [
    "# t = 1\n",
    "for i in range(10):\n",
    "    TESTCASES_NUMBER += 1\n",
    "    gncExp(\n",
    "        TESTCASES_NUMBER,\n",
    "        gncSpec2(N,100)\n",
    "    )"
   ]
  },
  {
   "cell_type": "code",
   "execution_count": 171,
   "metadata": {},
   "outputs": [
    {
     "data": {
      "text/plain": [
       "[]"
      ]
     },
     "execution_count": 171,
     "metadata": {},
     "output_type": "execute_result"
    }
   ],
   "source": [
    "input().split()"
   ]
  },
  {
   "cell_type": "code",
   "execution_count": 214,
   "metadata": {},
   "outputs": [
    {
     "data": {
      "text/plain": [
       "33"
      ]
     },
     "execution_count": 214,
     "metadata": {},
     "output_type": "execute_result"
    }
   ],
   "source": [
    "DEBUG_FILE = open(\"debug.in\",\"w\")\n",
    "DEBUG_FILE.write(gncIn_2(50,1,1,1))"
   ]
  },
  {
   "cell_type": "code",
   "execution_count": 185,
   "metadata": {},
   "outputs": [],
   "source": [
    "TESTCASES_NUMBER = 150"
   ]
  },
  {
   "cell_type": "code",
   "execution_count": null,
   "metadata": {},
   "outputs": [],
   "source": []
  }
 ],
 "metadata": {
  "kernelspec": {
   "display_name": "base",
   "language": "python",
   "name": "python3"
  },
  "language_info": {
   "codemirror_mode": {
    "name": "ipython",
    "version": 3
   },
   "file_extension": ".py",
   "mimetype": "text/x-python",
   "name": "python",
   "nbconvert_exporter": "python",
   "pygments_lexer": "ipython3",
   "version": "3.11.5"
  }
 },
 "nbformat": 4,
 "nbformat_minor": 2
}
