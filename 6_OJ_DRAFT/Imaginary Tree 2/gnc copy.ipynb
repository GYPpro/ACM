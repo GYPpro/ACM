{
 "cells": [
  {
   "cell_type": "code",
   "execution_count": 116,
   "metadata": {},
   "outputs": [],
   "source": [
    "import pandas as pd\n",
    "import numpy as np\n",
    "import subprocess as sp\n",
    "import math as mt\n",
    "import os"
   ]
  },
  {
   "cell_type": "code",
   "execution_count": 2,
   "metadata": {},
   "outputs": [],
   "source": [
    "def randi(l:int,r:int,t:int):\n",
    "    if t > 0:\n",
    "        flag = np.random.randint(0,t)\n",
    "    else :\n",
    "        flag = np.random.randint(0,-t)\n",
    "    if flag == 0:\n",
    "        return np.random.randint(l,r+1)\n",
    "    else:\n",
    "        if t > 0:\n",
    "            return r\n",
    "        else:\n",
    "            return l\n",
    "    # mx = l-1\n",
    "    # if t < 0 : mx = r+1\n",
    "    # times = abs(t)\n",
    "    # for i in range(times):\n",
    "    #     if t > 0:\n",
    "    #         mx = max(mx,np.random.randint(l,r+1))\n",
    "    #     else:\n",
    "    #         mx = min(mx,np.random.randint(l,r+1))\n",
    "    # return int(mx)"
   ]
  },
  {
   "cell_type": "code",
   "execution_count": 121,
   "metadata": {},
   "outputs": [],
   "source": [
    "OVERALL_INF = int(1e5)"
   ]
  },
  {
   "cell_type": "code",
   "execution_count": 143,
   "metadata": {},
   "outputs": [],
   "source": [
    "def gncCommonGraph(n:int,m:int,t:int) : # 节点数和伸展度\n",
    "    p = [0 for i in range(0,n+1)]\n",
    "    for i in range(2,n+1):\n",
    "        p[i] = int(randi(1,i-1,t))\n",
    "    edgevec = []\n",
    "    for i in range(2,n+1):\n",
    "        edgevec.append((i,p[i]))\n",
    "        # print (f\"{i} {p[i]}\")\n",
    "    peri = [i+1 for i in np.random.permutation(n)]\n",
    "    # print(edgevec)\n",
    "    # print(peri)\n",
    "    # [print(f\"{i[0]} {i[1]},{peri[i[0]-1]} {peri[i[1]]-1}\") for i in edgevec]\n",
    "    edgevec = [[peri[i[0]-1],peri[i[1]-1]] for i in edgevec]\n",
    "    for i in range(n,m+1):\n",
    "        edgevec.append([np.random.randint(1,n+1),np.random.randint(1,n+1)])\n",
    "    for i in range(len(edgevec)):\n",
    "        np.random.shuffle(edgevec[i])\n",
    "    np.random.shuffle(edgevec)\n",
    "    # print(f\"finish tree gnc with {n} nodes and {t} spread\")\n",
    "    return edgevec[:m]"
   ]
  },
  {
   "cell_type": "code",
   "execution_count": 4,
   "metadata": {},
   "outputs": [
    {
     "name": "stdout",
     "output_type": "stream",
     "text": [
      "finish tree gnc with 5 nodes and 1 spread\n"
     ]
    },
    {
     "data": {
      "text/plain": [
       "[[3, 1], [2, 4], [3, 1], [4, 1], [1, 2], [5, 3], [4, 1], [5, 4], [2, 1]]"
      ]
     },
     "execution_count": 4,
     "metadata": {},
     "output_type": "execute_result"
    }
   ],
   "source": [
    "gncCommonGraph(5,10,1)"
   ]
  },
  {
   "cell_type": "code",
   "execution_count": 5,
   "metadata": {},
   "outputs": [],
   "source": [
    "# def gncTestCases(len:int):\n",
    "#     lst = []\n",
    "#     for i in range(len):\n",
    "#         lst.append(str(np.random.randint(0,2)))\n",
    "#     return \"\".join(lst)"
   ]
  },
  {
   "cell_type": "code",
   "execution_count": 6,
   "metadata": {},
   "outputs": [],
   "source": [
    "def gncCommonQue(n:int,q:int):\n",
    "    lst = []\n",
    "    for i in range(q):\n",
    "        lst.append((np.random.randint(1,n+1),np.random.randint(1,n+1)))\n",
    "    return lst"
   ]
  },
  {
   "cell_type": "code",
   "execution_count": null,
   "metadata": {},
   "outputs": [],
   "source": [
    "def gncTestcases(n:int,m:int,t:int,k:int):\n",
    "    RTSTR = []\n",
    "    RTSTR.append(str(n)+ \" \" + str(m) + \" \" + str(k) + \"\\n\")\n",
    "    tr = gncCommonGraph(n,m,t)\n",
    "    for i in tr:\n",
    "        RTSTR.append(str(i[0]) + \" \" + str(i[1]) + \"\\n\")\n",
    "    return \"\".join(RTSTR)\n"
   ]
  },
  {
   "cell_type": "code",
   "execution_count": 215,
   "metadata": {},
   "outputs": [],
   "source": [
    "def gncIn_1(INF:int,T:int,t:int,tt:int): #稀疏图\n",
    "    RTSTR = []\n",
    "    RTSTR.append(str(T) + \"\\n\")\n",
    "    AVG = INF//T\n",
    "    for i in range(T):\n",
    "        n = np.random.randint(AVG*0.9,AVG+1)\n",
    "        m = np.random.randint(1,min(n*(n-1)//2,AVG+1))\n",
    "        k = np.random.randint(0,n//10+2)\n",
    "        if np.random.randint(0,2) == 0:\n",
    "            t += randi(1,1000,tt)\n",
    "        else: t -= randi(1,1000,tt)\n",
    "        if t == 0 : t = 1\n",
    "        RTSTR.append(gncTestcases(n,m,t,k))\n",
    "        # print(f\"finish {i+1}th case\")\n",
    "        # RTSTR.append(\"\\n\")\n",
    "    return \"\".join(RTSTR)"
   ]
  },
  {
   "cell_type": "code",
   "execution_count": 239,
   "metadata": {},
   "outputs": [],
   "source": [
    "def gncIn_2(INF:int,T:int,t:int,tt:int): #稠密图\n",
    "    RTSTR = []\n",
    "    RTSTR.append(str(T) + \"\\n\")\n",
    "    AVG = INF//T\n",
    "    for i in range(T):\n",
    "        n = np.random.randint(AVG*0.1,AVG*0.2)\n",
    "        m = np.random.randint(n,min(n*(n-1)//2,AVG+1))\n",
    "        k = np.random.randint(0,n//10+2)\n",
    "        if np.random.randint(0,2) == 0:\n",
    "            t += randi(1,1000,tt)\n",
    "        else: t -= randi(1,1000,tt)\n",
    "        if t == 0 : t = 1\n",
    "        # RTSTR.append(f\"{n} {m}\\n\")\n",
    "        RTSTR.append(gncTestcases(n,m,t,k))\n",
    "        # print(f\"finish {i+1}th case\")\n",
    "        # RTSTR.append(\"\\n\")\n",
    "    return \"\".join(RTSTR)"
   ]
  },
  {
   "cell_type": "code",
   "execution_count": 137,
   "metadata": {},
   "outputs": [],
   "source": [
    "def gncSpec1(INF:int,T:int): #完全随机\n",
    "    RTSTR = []\n",
    "    RTSTR.append(str(T) + \"\\n\")\n",
    "    for i in range(T):\n",
    "        n = INF//T\n",
    "        m = n\n",
    "        k = np.random.randint(0,n//10+2)\n",
    "        t = np.random.randint(1,1000)\n",
    "        RTSTR.append(gncTestcases(n,m,t,k))\n",
    "        # print(f\"finish {i+1}th case\")\n",
    "        RTSTR.append(\"\\n\")\n",
    "    return \"\".join(RTSTR)"
   ]
  },
  {
   "cell_type": "code",
   "execution_count": 238,
   "metadata": {},
   "outputs": [],
   "source": [
    "def gncConorCases(n:int,m:int,t:int,T:int):\n",
    "    RTSTR = []\n",
    "    k = 0\n",
    "    RTSTR.append(str(n)+ \" \" + str(m) + \" \" + str(k) + \"\\n\")\n",
    "    tr = gncCommonGraph(n,m,t)\n",
    "    TRSTR = []\n",
    "    for i in tr:\n",
    "        TRSTR.append(str(i[0]) + \" \" + str(i[1]) + \"\\n\")\n",
    "    TRSTR = \"\".join(TRSTR)\n",
    "    RTSTR.append(TRSTR)\n",
    "    for i in range(T):\n",
    "        k += 1\n",
    "        if i == T-1:\n",
    "            k = np.random.randint(0,int(1e9))\n",
    "        RTSTR.append(str(n)+ \" \" + str(m) + \" \" + str(k) + \"\\n\")\n",
    "        RTSTR.append(TRSTR)\n",
    "        # RTSTR.append(\"\\n\")\n",
    "    return \"\".join(RTSTR)"
   ]
  },
  {
   "cell_type": "code",
   "execution_count": 113,
   "metadata": {},
   "outputs": [
    {
     "name": "stdout",
     "output_type": "stream",
     "text": [
      "finish tree gnc with 5 nodes and 1 spread\n",
      "5 10 0\n",
      "2 5\n",
      "4 3\n",
      "4 5\n",
      "2 5\n",
      "3 2\n",
      "1 5\n",
      "5 3\n",
      "4 5\n",
      "3 5\n",
      "2 4\n",
      "5 10 1\n",
      "2 5\n",
      "4 3\n",
      "4 5\n",
      "2 5\n",
      "3 2\n",
      "1 5\n",
      "5 3\n",
      "4 5\n",
      "3 5\n",
      "2 4\n",
      "\n",
      "5 10 2\n",
      "2 5\n",
      "4 3\n",
      "4 5\n",
      "2 5\n",
      "3 2\n",
      "1 5\n",
      "5 3\n",
      "4 5\n",
      "3 5\n",
      "2 4\n",
      "\n",
      "5 10 3\n",
      "2 5\n",
      "4 3\n",
      "4 5\n",
      "2 5\n",
      "3 2\n",
      "1 5\n",
      "5 3\n",
      "4 5\n",
      "3 5\n",
      "2 4\n",
      "\n",
      "5 10 4\n",
      "2 5\n",
      "4 3\n",
      "4 5\n",
      "2 5\n",
      "3 2\n",
      "1 5\n",
      "5 3\n",
      "4 5\n",
      "3 5\n",
      "2 4\n",
      "\n",
      "5 10 5\n",
      "2 5\n",
      "4 3\n",
      "4 5\n",
      "2 5\n",
      "3 2\n",
      "1 5\n",
      "5 3\n",
      "4 5\n",
      "3 5\n",
      "2 4\n",
      "\n",
      "5 10 6\n",
      "2 5\n",
      "4 3\n",
      "4 5\n",
      "2 5\n",
      "3 2\n",
      "1 5\n",
      "5 3\n",
      "4 5\n",
      "3 5\n",
      "2 4\n",
      "\n",
      "5 10 7\n",
      "2 5\n",
      "4 3\n",
      "4 5\n",
      "2 5\n",
      "3 2\n",
      "1 5\n",
      "5 3\n",
      "4 5\n",
      "3 5\n",
      "2 4\n",
      "\n",
      "5 10 8\n",
      "2 5\n",
      "4 3\n",
      "4 5\n",
      "2 5\n",
      "3 2\n",
      "1 5\n",
      "5 3\n",
      "4 5\n",
      "3 5\n",
      "2 4\n",
      "\n",
      "5 10 9\n",
      "2 5\n",
      "4 3\n",
      "4 5\n",
      "2 5\n",
      "3 2\n",
      "1 5\n",
      "5 3\n",
      "4 5\n",
      "3 5\n",
      "2 4\n",
      "\n",
      "5 10 10\n",
      "2 5\n",
      "4 3\n",
      "4 5\n",
      "2 5\n",
      "3 2\n",
      "1 5\n",
      "5 3\n",
      "4 5\n",
      "3 5\n",
      "2 4\n",
      "\n",
      "\n"
     ]
    }
   ],
   "source": [
    "print(gncConorCases(5,10,1,10))"
   ]
  },
  {
   "cell_type": "code",
   "execution_count": 183,
   "metadata": {},
   "outputs": [],
   "source": [
    "def gncSpec2(INF:int,f:int): #边界条件\n",
    "    RTSTR = []\n",
    "    T = INF//f\n",
    "    T = (T//10) * 10\n",
    "    RTSTR.append(str(T) + \"\\n\")\n",
    "    T //= 10\n",
    "    F = int(mt.sqrt(INF))\n",
    "    for i in range(T):\n",
    "        n = f\n",
    "        m = n\n",
    "        t = np.random.randint(1,1000)\n",
    "        RTSTR.append(gncConorCases(n,m,t,9))\n",
    "        # print(f\"finish {i+1}th case\")\n",
    "        # RTSTR.append(\"\\n\")\n",
    "    return \"\".join(RTSTR)"
   ]
  },
  {
   "cell_type": "code",
   "execution_count": 159,
   "metadata": {},
   "outputs": [
    {
     "name": "stdout",
     "output_type": "stream",
     "text": [
      "5\n",
      "2 2 0\n",
      "2 1\n",
      "2 1\n",
      "2 2 1\n",
      "2 1\n",
      "2 1\n",
      "2 2 2\n",
      "2 1\n",
      "2 1\n",
      "2 2 3\n",
      "2 1\n",
      "2 1\n",
      "2 2 4\n",
      "2 1\n",
      "2 1\n",
      "2 2 5\n",
      "2 1\n",
      "2 1\n",
      "2 2 6\n",
      "2 1\n",
      "2 1\n",
      "2 2 7\n",
      "2 1\n",
      "2 1\n",
      "2 2 8\n",
      "2 1\n",
      "2 1\n",
      "2 2 9\n",
      "2 1\n",
      "2 1\n",
      "2 2 10\n",
      "2 1\n",
      "2 1\n",
      "\n",
      "2 2 0\n",
      "2 1\n",
      "2 1\n",
      "2 2 1\n",
      "2 1\n",
      "2 1\n",
      "2 2 2\n",
      "2 1\n",
      "2 1\n",
      "2 2 3\n",
      "2 1\n",
      "2 1\n",
      "2 2 4\n",
      "2 1\n",
      "2 1\n",
      "2 2 5\n",
      "2 1\n",
      "2 1\n",
      "2 2 6\n",
      "2 1\n",
      "2 1\n",
      "2 2 7\n",
      "2 1\n",
      "2 1\n",
      "2 2 8\n",
      "2 1\n",
      "2 1\n",
      "2 2 9\n",
      "2 1\n",
      "2 1\n",
      "2 2 10\n",
      "2 1\n",
      "2 1\n",
      "\n",
      "2 2 0\n",
      "2 1\n",
      "1 2\n",
      "2 2 1\n",
      "2 1\n",
      "1 2\n",
      "2 2 2\n",
      "2 1\n",
      "1 2\n",
      "2 2 3\n",
      "2 1\n",
      "1 2\n",
      "2 2 4\n",
      "2 1\n",
      "1 2\n",
      "2 2 5\n",
      "2 1\n",
      "1 2\n",
      "2 2 6\n",
      "2 1\n",
      "1 2\n",
      "2 2 7\n",
      "2 1\n",
      "1 2\n",
      "2 2 8\n",
      "2 1\n",
      "1 2\n",
      "2 2 9\n",
      "2 1\n",
      "1 2\n",
      "2 2 10\n",
      "2 1\n",
      "1 2\n",
      "\n",
      "2 2 0\n",
      "1 1\n",
      "2 1\n",
      "2 2 1\n",
      "1 1\n",
      "2 1\n",
      "2 2 2\n",
      "1 1\n",
      "2 1\n",
      "2 2 3\n",
      "1 1\n",
      "2 1\n",
      "2 2 4\n",
      "1 1\n",
      "2 1\n",
      "2 2 5\n",
      "1 1\n",
      "2 1\n",
      "2 2 6\n",
      "1 1\n",
      "2 1\n",
      "2 2 7\n",
      "1 1\n",
      "2 1\n",
      "2 2 8\n",
      "1 1\n",
      "2 1\n",
      "2 2 9\n",
      "1 1\n",
      "2 1\n",
      "2 2 10\n",
      "1 1\n",
      "2 1\n",
      "\n",
      "2 2 0\n",
      "2 2\n",
      "1 2\n",
      "2 2 1\n",
      "2 2\n",
      "1 2\n",
      "2 2 2\n",
      "2 2\n",
      "1 2\n",
      "2 2 3\n",
      "2 2\n",
      "1 2\n",
      "2 2 4\n",
      "2 2\n",
      "1 2\n",
      "2 2 5\n",
      "2 2\n",
      "1 2\n",
      "2 2 6\n",
      "2 2\n",
      "1 2\n",
      "2 2 7\n",
      "2 2\n",
      "1 2\n",
      "2 2 8\n",
      "2 2\n",
      "1 2\n",
      "2 2 9\n",
      "2 2\n",
      "1 2\n",
      "2 2 10\n",
      "2 2\n",
      "1 2\n",
      "\n",
      "\n"
     ]
    }
   ],
   "source": [
    "print(gncSpec2(100,2))"
   ]
  },
  {
   "cell_type": "code",
   "execution_count": 76,
   "metadata": {},
   "outputs": [],
   "source": [
    "def std(inv:str):\n",
    "    INF = open(f\"temp.in\",\"w\")\n",
    "    INF.write(inv)\n",
    "    INF.close()\n",
    "    sp.run(\"std.exe\")\n",
    "    return open(\"temp.out\",\"r\").read()"
   ]
  },
  {
   "cell_type": "code",
   "execution_count": 225,
   "metadata": {},
   "outputs": [],
   "source": [
    "def checker(s:str):\n",
    "    s = s.split(\"\\n\")\n",
    "    T = int(s[0])\n",
    "    expectLines = 1\n",
    "    i = 1\n",
    "    # print( len(s) )\n",
    "    while i < len(s)-1:\n",
    "        # print(i)\n",
    "        tmp = s[i].split(\" \")\n",
    "        expectLines += int(tmp[1]) + 1\n",
    "        i += int(tmp[1]) + 1\n",
    "    print(expectLines,end=\":\")\n",
    "    if len(s) != expectLines + 1:\n",
    "        return False\n",
    "    else :\n",
    "        return True"
   ]
  },
  {
   "cell_type": "code",
   "execution_count": 223,
   "metadata": {},
   "outputs": [
    {
     "name": "stdout",
     "output_type": "stream",
     "text": [
      "1\n",
      "5 6 1\n",
      "4 1\n",
      "4 5\n",
      "5 1\n",
      "3 1\n",
      "1 4\n",
      "1 2\n",
      "\n",
      "True\n",
      "YES\n",
      "\n"
     ]
    }
   ],
   "source": [
    "n = 10\n",
    "a = gncIn_2(50,1,1,1)\n",
    "# b = gncOutput(n)}\n",
    "print(a)\n",
    "print(checker(a))\n",
    "print(std(a))"
   ]
  },
  {
   "cell_type": "code",
   "execution_count": 226,
   "metadata": {},
   "outputs": [],
   "source": [
    "def gncExp(i:int,INSTR:str):\n",
    "    if checker(INSTR) == False:\n",
    "        print(\"ERROR\")\n",
    "        return\n",
    "    else : print(\"PASS\")\n",
    "    INF = open(f\"{i}.in\",\"w\")\n",
    "    OUTF = open(f\"{i}.out\",\"w\")\n",
    "    # INSTR = gncIn(n,q,gncCommonTree(n,t),gncCommonQue(n,q))\n",
    "    OUTSTR = std(INSTR)\n",
    "    # print(OUTSTR)\n",
    "    INF.write(INSTR)\n",
    "    OUTF.write(OUTSTR)\n",
    "    INF.close()\n",
    "    OUTF.close()"
   ]
  },
  {
   "cell_type": "code",
   "execution_count": 149,
   "metadata": {},
   "outputs": [
    {
     "name": "stdout",
     "output_type": "stream",
     "text": [
      "YES\n",
      "YES\n",
      "\n"
     ]
    }
   ],
   "source": [
    "gncExp(\n",
    "    0,\n",
    "    gncSpec2(50,2)\n",
    ")"
   ]
  },
  {
   "cell_type": "code",
   "execution_count": 241,
   "metadata": {},
   "outputs": [],
   "source": [
    "TESTCASES_NUMBER = 0\n",
    "N = int(1e5)"
   ]
  },
  {
   "cell_type": "code",
   "execution_count": 242,
   "metadata": {},
   "outputs": [
    {
     "name": "stdout",
     "output_type": "stream",
     "text": [
      "52328:PASS\n",
      "53245:PASS\n",
      "52254:PASS\n",
      "51291:PASS\n",
      "50810:PASS\n",
      "53183:PASS\n",
      "51854:PASS\n",
      "50790:PASS\n",
      "51658:PASS\n",
      "50087:PASS\n"
     ]
    }
   ],
   "source": [
    "# t = 1\n",
    "for i in range(10):\n",
    "    TESTCASES_NUMBER += 1\n",
    "    gncExp(\n",
    "        TESTCASES_NUMBER,\n",
    "        gncIn_1(N,N//100,0,2)\n",
    "    )"
   ]
  },
  {
   "cell_type": "code",
   "execution_count": 243,
   "metadata": {},
   "outputs": [
    {
     "name": "stdout",
     "output_type": "stream",
     "text": [
      "48202:PASS\n",
      "49321:PASS\n",
      "50115:PASS\n",
      "49143:PASS\n",
      "49088:PASS\n",
      "49079:PASS\n",
      "49464:PASS\n",
      "50214:PASS\n",
      "49320:PASS\n",
      "48910:PASS\n"
     ]
    }
   ],
   "source": [
    "# t = 1\n",
    "for i in range(10):\n",
    "    TESTCASES_NUMBER += 1\n",
    "    gncExp(\n",
    "        TESTCASES_NUMBER,\n",
    "        gncIn_2(N,N//100,0,2)\n",
    "    )"
   ]
  },
  {
   "cell_type": "code",
   "execution_count": 244,
   "metadata": {},
   "outputs": [
    {
     "name": "stdout",
     "output_type": "stream",
     "text": [
      "41821:PASS\n",
      "44556:PASS\n",
      "55364:PASS\n",
      "59639:PASS\n",
      "56605:PASS\n",
      "52625:PASS\n",
      "56913:PASS\n",
      "44405:PASS\n",
      "46828:PASS\n",
      "54098:PASS\n"
     ]
    }
   ],
   "source": [
    "# t = 1\n",
    "for i in range(10):\n",
    "    TESTCASES_NUMBER += 1\n",
    "    gncExp(\n",
    "        TESTCASES_NUMBER,\n",
    "        gncIn_1(N,10,0,2)\n",
    "    )"
   ]
  },
  {
   "cell_type": "code",
   "execution_count": 245,
   "metadata": {},
   "outputs": [
    {
     "name": "stdout",
     "output_type": "stream",
     "text": [
      "43780:PASS\n",
      "75058:PASS\n",
      "58735:PASS\n",
      "50558:PASS\n",
      "41689:PASS\n",
      "53528:PASS\n",
      "49918:PASS\n",
      "66725:PASS\n",
      "73709:PASS\n",
      "63367:PASS\n"
     ]
    }
   ],
   "source": [
    "# t = 1\n",
    "for i in range(10):\n",
    "    TESTCASES_NUMBER += 1\n",
    "    gncExp(\n",
    "        TESTCASES_NUMBER,\n",
    "        gncIn_2(N,10,0,2)\n",
    "    )"
   ]
  },
  {
   "cell_type": "code",
   "execution_count": 246,
   "metadata": {},
   "outputs": [
    {
     "name": "stdout",
     "output_type": "stream",
     "text": [
      "101001:PASS\n",
      "101001:PASS\n",
      "101001:PASS\n",
      "101001:PASS\n",
      "101001:PASS\n",
      "101001:PASS\n",
      "101001:PASS\n",
      "101001:PASS\n",
      "101001:PASS\n",
      "101001:PASS\n",
      "101001:PASS\n",
      "101001:PASS\n",
      "101001:PASS\n",
      "101001:PASS\n",
      "101001:PASS\n"
     ]
    }
   ],
   "source": [
    "# t = 1\n",
    "for i in range(15):\n",
    "    TESTCASES_NUMBER += 1\n",
    "    gncExp(\n",
    "        TESTCASES_NUMBER,\n",
    "        gncSpec2(N,100)\n",
    "    )"
   ]
  },
  {
   "cell_type": "markdown",
   "metadata": {},
   "source": [
    "## 以下弃用"
   ]
  },
  {
   "cell_type": "code",
   "execution_count": 230,
   "metadata": {},
   "outputs": [
    {
     "name": "stdout",
     "output_type": "stream",
     "text": [
      "51619:PASS\n",
      "50545:PASS\n",
      "51673:PASS\n",
      "52069:PASS\n",
      "52157:PASS\n",
      "52804:PASS\n",
      "53335:PASS\n",
      "53631:PASS\n",
      "50461:PASS\n",
      "52242:PASS\n",
      "50628:PASS\n",
      "50281:PASS\n",
      "52322:PASS\n",
      "51753:PASS\n",
      "51979:PASS\n",
      "49717:PASS\n",
      "52873:PASS\n",
      "52515:PASS\n",
      "51246:PASS\n",
      "50534:PASS\n",
      "53767:PASS\n",
      "51229:PASS\n",
      "51793:PASS\n",
      "51603:PASS\n",
      "52010:PASS\n",
      "51721:PASS\n",
      "51188:PASS\n",
      "52135:PASS\n",
      "51260:PASS\n",
      "51496:PASS\n",
      "51749:PASS\n",
      "51910:PASS\n",
      "51786:PASS\n",
      "52593:PASS\n",
      "53348:PASS\n",
      "52494:PASS\n",
      "52025:PASS\n",
      "51214:PASS\n",
      "51980:PASS\n",
      "50800:PASS\n"
     ]
    }
   ],
   "source": [
    "# t = 1\n",
    "for i in range(5):\n",
    "    for i in [-100000,-1000,-10,-1,1,10,1000,100000]:\n",
    "        # t = 1\n",
    "        TESTCASES_NUMBER += 1\n",
    "        gncExp(\n",
    "            TESTCASES_NUMBER,\n",
    "            gncIn_1(N,N//100,i,2)\n",
    "        )"
   ]
  },
  {
   "cell_type": "code",
   "execution_count": 231,
   "metadata": {},
   "outputs": [
    {
     "name": "stdout",
     "output_type": "stream",
     "text": [
      "43184:PASS\n",
      "43521:PASS\n",
      "42434:PASS\n",
      "42381:PASS\n",
      "42722:PASS\n",
      "41372:PASS\n",
      "44777:PASS\n",
      "43133:PASS\n",
      "42438:PASS\n",
      "42893:PASS\n"
     ]
    }
   ],
   "source": [
    "# t = 1\n",
    "for i in range(10):\n",
    "    TESTCASES_NUMBER += 1\n",
    "    gncExp(\n",
    "        TESTCASES_NUMBER,\n",
    "        gncIn_2(N,N//100,0,2)\n",
    "    )"
   ]
  },
  {
   "cell_type": "code",
   "execution_count": 232,
   "metadata": {},
   "outputs": [
    {
     "name": "stdout",
     "output_type": "stream",
     "text": [
      "42151:PASS\n",
      "42335:PASS\n",
      "42483:PASS\n",
      "43226:PASS\n",
      "42950:PASS\n",
      "43024:PASS\n",
      "43171:PASS\n",
      "42890:PASS\n",
      "42654:PASS\n",
      "44367:PASS\n",
      "44554:PASS\n",
      "42012:PASS\n",
      "42361:PASS\n",
      "43694:PASS\n",
      "40916:PASS\n",
      "43530:PASS\n",
      "42131:PASS\n",
      "42741:PASS\n",
      "43662:PASS\n",
      "43731:PASS\n",
      "42132:PASS\n",
      "42810:PASS\n",
      "43620:PASS\n",
      "43428:PASS\n",
      "42285:PASS\n",
      "43841:PASS\n",
      "42755:PASS\n",
      "42930:PASS\n",
      "42724:PASS\n",
      "44236:PASS\n",
      "44171:PASS\n",
      "43780:PASS\n",
      "43160:PASS\n",
      "43257:PASS\n",
      "41870:PASS\n",
      "42966:PASS\n",
      "43438:PASS\n",
      "42938:PASS\n",
      "43350:PASS\n",
      "41144:PASS\n"
     ]
    }
   ],
   "source": [
    "# t = 1\n",
    "for i in range(5):\n",
    "    for i in [-100000,-1000,-10,-1,1,10,1000,100000]:\n",
    "        # t = 1\n",
    "        TESTCASES_NUMBER += 1\n",
    "        gncExp(\n",
    "            TESTCASES_NUMBER,\n",
    "            gncIn_2(N,N//100,i,2)\n",
    "        )"
   ]
  },
  {
   "cell_type": "code",
   "execution_count": 233,
   "metadata": {},
   "outputs": [
    {
     "name": "stdout",
     "output_type": "stream",
     "text": [
      "86014:PASS\n",
      "3925:PASS\n",
      "14673:PASS\n",
      "21595:PASS\n",
      "82992:PASS\n",
      "78288:PASS\n",
      "15582:PASS\n",
      "97563:PASS\n",
      "29880:PASS\n",
      "19814:PASS\n"
     ]
    }
   ],
   "source": [
    "# t = 1\n",
    "for i in range(10):\n",
    "    TESTCASES_NUMBER += 1\n",
    "    gncExp(\n",
    "        TESTCASES_NUMBER,\n",
    "        gncIn_2(N,1,0,2)\n",
    "    )"
   ]
  },
  {
   "cell_type": "code",
   "execution_count": 234,
   "metadata": {},
   "outputs": [
    {
     "name": "stdout",
     "output_type": "stream",
     "text": [
      "16124:PASS\n",
      "45623:PASS\n",
      "81198:PASS\n",
      "36449:PASS\n",
      "14037:PASS\n",
      "80087:PASS\n",
      "20449:PASS\n",
      "58330:PASS\n",
      "10188:PASS\n",
      "35238:PASS\n",
      "11030:PASS\n",
      "93444:PASS\n",
      "29395:PASS\n",
      "36137:PASS\n",
      "8583:PASS\n",
      "37036:PASS\n",
      "66079:PASS\n",
      "77484:PASS\n",
      "93720:PASS\n",
      "20727:PASS\n",
      "97411:PASS\n",
      "95854:PASS\n",
      "57703:PASS\n",
      "74839:PASS\n",
      "99250:PASS\n",
      "69967:PASS\n",
      "50869:PASS\n",
      "76693:PASS\n",
      "59886:PASS\n",
      "32803:PASS\n",
      "25107:PASS\n",
      "70444:PASS\n",
      "86307:PASS\n",
      "98121:PASS\n",
      "29166:PASS\n",
      "21580:PASS\n",
      "25877:PASS\n",
      "49221:PASS\n",
      "9872:PASS\n",
      "34152:PASS\n"
     ]
    }
   ],
   "source": [
    "# t = 1\n",
    "for i in range(5):\n",
    "    for i in [-100000,-1000,-10,-1,1,10,1000,100000]:\n",
    "        # t = 1\n",
    "        TESTCASES_NUMBER += 1\n",
    "        gncExp(\n",
    "            TESTCASES_NUMBER,\n",
    "            gncIn_2(N,1,i,2)\n",
    "        )"
   ]
  },
  {
   "cell_type": "code",
   "execution_count": 235,
   "metadata": {},
   "outputs": [
    {
     "name": "stdout",
     "output_type": "stream",
     "text": [
      "101001:PASS\n",
      "101001:PASS\n",
      "101001:PASS\n",
      "101001:PASS\n",
      "101001:PASS\n",
      "101001:PASS\n",
      "101001:PASS\n",
      "101001:PASS\n",
      "101001:PASS\n",
      "101001:PASS\n"
     ]
    }
   ],
   "source": [
    "# t = 1\n",
    "for i in range(10):\n",
    "    TESTCASES_NUMBER += 1\n",
    "    gncExp(\n",
    "        TESTCASES_NUMBER,\n",
    "        gncSpec2(N,100)\n",
    "    )"
   ]
  },
  {
   "cell_type": "code",
   "execution_count": 171,
   "metadata": {},
   "outputs": [
    {
     "data": {
      "text/plain": [
       "[]"
      ]
     },
     "execution_count": 171,
     "metadata": {},
     "output_type": "execute_result"
    }
   ],
   "source": [
    "input().split()"
   ]
  },
  {
   "cell_type": "code",
   "execution_count": 214,
   "metadata": {},
   "outputs": [
    {
     "data": {
      "text/plain": [
       "33"
      ]
     },
     "execution_count": 214,
     "metadata": {},
     "output_type": "execute_result"
    }
   ],
   "source": [
    "DEBUG_FILE = open(\"debug.in\",\"w\")\n",
    "DEBUG_FILE.write(gncIn_2(50,1,1,1))"
   ]
  },
  {
   "cell_type": "code",
   "execution_count": 185,
   "metadata": {},
   "outputs": [],
   "source": [
    "TESTCASES_NUMBER = 150"
   ]
  },
  {
   "cell_type": "code",
   "execution_count": null,
   "metadata": {},
   "outputs": [],
   "source": []
  }
 ],
 "metadata": {
  "kernelspec": {
   "display_name": "base",
   "language": "python",
   "name": "python3"
  },
  "language_info": {
   "codemirror_mode": {
    "name": "ipython",
    "version": 3
   },
   "file_extension": ".py",
   "mimetype": "text/x-python",
   "name": "python",
   "nbconvert_exporter": "python",
   "pygments_lexer": "ipython3",
   "version": "3.11.5"
  }
 },
 "nbformat": 4,
 "nbformat_minor": 2
}
