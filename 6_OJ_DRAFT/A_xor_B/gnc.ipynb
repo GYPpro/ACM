{
 "cells": [
  {
   "cell_type": "code",
   "execution_count": 7,
   "metadata": {},
   "outputs": [],
   "source": [
    "import pandas as pd\n",
    "import numpy as np"
   ]
  },
  {
   "cell_type": "code",
   "execution_count": 13,
   "metadata": {},
   "outputs": [],
   "source": [
    "def gncOutput(n:int):\n",
    "    rtarr = []\n",
    "    for i in range(1,n+1):\n",
    "        rtarr.append(np.random.randint(0,2))\n",
    "    return \"\".join([str(x) for x in rtarr])"
   ]
  },
  {
   "cell_type": "code",
   "execution_count": 22,
   "metadata": {},
   "outputs": [],
   "source": [
    "def std(a:str,b:str):\n",
    "    rtarr = []\n",
    "    for i in range(len(a)):\n",
    "        rtarr.append(int(a[i]) ^ int(b[i]))\n",
    "    return \"\".join([str(x) for x in rtarr])"
   ]
  },
  {
   "cell_type": "code",
   "execution_count": 26,
   "metadata": {},
   "outputs": [
    {
     "name": "stdout",
     "output_type": "stream",
     "text": [
      "1011101100\n",
      "1101101101\n",
      "0110000001\n"
     ]
    }
   ],
   "source": [
    "n = 10\n",
    "a = gncOutput(n)\n",
    "b = gncOutput(n)\n",
    "print(a)\n",
    "print(b)\n",
    "print(std(a,b))"
   ]
  },
  {
   "cell_type": "code",
   "execution_count": 27,
   "metadata": {},
   "outputs": [],
   "source": [
    "def gncExp(i:int,n:int):\n",
    "    INF = open(f\"{i}.in\",\"w\")\n",
    "    OUTF = open(f\"{i}.out\",\"w\")\n",
    "    INSTR = \"\"\n",
    "    INSTR += str(n) + \"\\n\"\n",
    "    a = gncOutput(n)\n",
    "    b = gncOutput(n)\n",
    "    INSTR += a + \"\\n\"\n",
    "    INSTR += b + \"\\n\"\n",
    "    OUTSTR = std(a,b)\n",
    "    INF.write(INSTR)\n",
    "    OUTF.write(OUTSTR)"
   ]
  },
  {
   "cell_type": "code",
   "execution_count": null,
   "metadata": {},
   "outputs": [],
   "source": [
    "t = 0\n",
    "for i in [3,5,7,9,10,int(1e5),int(1e5)]:\n",
    "    t += 1\n",
    "    gncExp(t,i)"
   ]
  }
 ],
 "metadata": {
  "kernelspec": {
   "display_name": "base",
   "language": "python",
   "name": "python3"
  },
  "language_info": {
   "codemirror_mode": {
    "name": "ipython",
    "version": 3
   },
   "file_extension": ".py",
   "mimetype": "text/x-python",
   "name": "python",
   "nbconvert_exporter": "python",
   "pygments_lexer": "ipython3",
   "version": "3.11.5"
  }
 },
 "nbformat": 4,
 "nbformat_minor": 2
}
