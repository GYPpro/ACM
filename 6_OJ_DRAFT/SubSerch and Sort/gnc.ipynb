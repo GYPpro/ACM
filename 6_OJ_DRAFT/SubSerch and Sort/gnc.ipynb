{
 "cells": [
  {
   "cell_type": "code",
   "execution_count": 24,
   "metadata": {},
   "outputs": [],
   "source": [
    "import pandas as pd\n",
    "import numpy as np\n",
    "import subprocess as sp\n",
    "import math as mt"
   ]
  },
  {
   "cell_type": "code",
   "execution_count": 56,
   "metadata": {},
   "outputs": [],
   "source": [
    "RANGE1 = 1e4\n",
    "RANGE2 = 1e9"
   ]
  },
  {
   "cell_type": "code",
   "execution_count": 26,
   "metadata": {},
   "outputs": [],
   "source": [
    "def ifpw(x:int):\n",
    "    sq =int( mt.sqrt(x))\n",
    "    if sq*sq == x:\n",
    "        return True\n",
    "    return False"
   ]
  },
  {
   "cell_type": "code",
   "execution_count": 27,
   "metadata": {},
   "outputs": [],
   "source": [
    "def randsgn():\n",
    "    return 1 if np.random.random() > 0.5 else -1"
   ]
  },
  {
   "cell_type": "code",
   "execution_count": 41,
   "metadata": {},
   "outputs": [],
   "source": [
    "def gncIn(n:int,q:int): # 完全命中数据\n",
    "    RTSTR = str(n) + \" \" + str(q) + \"\\n\"\n",
    "    rtlst = []\n",
    "    for i in range(n):\n",
    "        rtlst.append(str(np.random.randint(-RANGE1,RANGE1)) + \" \" + str(np.random.randint(-RANGE1,RANGE1)))\n",
    "    for i in range(q):\n",
    "        pt = np.random.randint(0,n)\n",
    "        x,y = [int(x) for x in rtlst[pt].split()]\n",
    "        flag = x **2 + y **2\n",
    "        for k in range(int(mt.sqrt(flag))):\n",
    "            if ifpw(flag - k*k):\n",
    "                rtlst.append(str(k* randsgn()) + \" \" + str(int(mt.sqrt(flag - k*k)) * randsgn()))\n",
    "                break\n",
    "    return RTSTR + \"\\n\".join(rtlst)\n",
    "    "
   ]
  },
  {
   "cell_type": "code",
   "execution_count": 50,
   "metadata": {},
   "outputs": [],
   "source": [
    "def gncIn(n:int,q:int): # 随机命中数据\n",
    "    RTSTR = str(n) + \" \" + str(q) + \"\\n\"\n",
    "    rtlst = []\n",
    "    for i in range(n):\n",
    "        rtlst.append(str(np.random.randint(-RANGE1,RANGE1)) + \" \" + str(np.random.randint(-RANGE1,RANGE1)))\n",
    "    for i in range(q):\n",
    "        rtlst.append(str(np.random.randint(-RANGE1,RANGE1)) + \" \" + str(np.random.randint(-RANGE1,RANGE1)))\n",
    "        # pt = np.random.randint(0,n)\n",
    "        # x,y = [int(x) for x in rtlst[pt].split()]\n",
    "        # flag = x **2 + y **2\n",
    "        # for k in range(int(mt.sqrt(flag))):\n",
    "        #     if ifpw(flag - k*k):\n",
    "        #         rtlst.append(str(k* randsgn()) + \" \" + str(int(mt.sqrt(flag - k*k)) * randsgn()))\n",
    "        #         break\n",
    "    return RTSTR + \"\\n\".join(rtlst)\n",
    "    "
   ]
  },
  {
   "cell_type": "code",
   "execution_count": 29,
   "metadata": {},
   "outputs": [],
   "source": [
    "def std(inv:str):\n",
    "    INF = open(f\"temp.in\",\"w\")\n",
    "    INF.write(inv)\n",
    "    INF.close()\n",
    "    sp.run(\"std.exe\")\n",
    "    return open(\"temp.out\",\"r\").read()"
   ]
  },
  {
   "cell_type": "code",
   "execution_count": 57,
   "metadata": {},
   "outputs": [
    {
     "name": "stdout",
     "output_type": "stream",
     "text": [
      "10 10\n",
      "3537 -2812\n",
      "-290 -3905\n",
      "-3589 1927\n",
      "-9057 -8049\n",
      "6002 -7507\n",
      "9250 286\n",
      "-3941 -7129\n",
      "-8185 5568\n",
      "9168 -1443\n",
      "2309 3250\n",
      "-7706 439\n",
      "-6732 7845\n",
      "1792 -2852\n",
      "-8354 8717\n",
      "669 9202\n",
      "-2871 -6132\n",
      "4436 -9364\n",
      "1763 -1468\n",
      "791 -3761\n",
      "5637 -9904\n",
      "Not Found\n",
      "Not Found\n",
      "Not Found\n",
      "Not Found\n",
      "Not Found\n",
      "Not Found\n",
      "Not Found\n",
      "Not Found\n",
      "Not Found\n",
      "Not Found\n",
      "\n"
     ]
    }
   ],
   "source": [
    "n = 10\n",
    "q = 10\n",
    "a = gncIn(n,q)\n",
    "# print(a)\n",
    "# b = gncOutput(n)\n",
    "print(a)\n",
    "print(std(a))"
   ]
  },
  {
   "cell_type": "code",
   "execution_count": null,
   "metadata": {},
   "outputs": [],
   "source": []
  },
  {
   "cell_type": "code",
   "execution_count": 42,
   "metadata": {},
   "outputs": [],
   "source": [
    "def gncExp(i:int,n:int):\n",
    "    INF = open(f\"{i}.in\",\"w\")\n",
    "    OUTF = open(f\"{i}.out\",\"w\")\n",
    "    INSTR = gncIn(n,n)\n",
    "    OUTSTR = std(INSTR)\n",
    "    INF.write(INSTR)\n",
    "    OUTF.write(OUTSTR)\n",
    "    INF.close()\n",
    "    OUTF.close()"
   ]
  },
  {
   "cell_type": "code",
   "execution_count": 59,
   "metadata": {},
   "outputs": [],
   "source": [
    "gncExp(7,100000)"
   ]
  },
  {
   "cell_type": "code",
   "execution_count": null,
   "metadata": {},
   "outputs": [],
   "source": [
    "t = 0\n",
    "for i in [3,5,7,9,10,int(1e5),int(1e5)]:\n",
    "    t += 1\n",
    "    gncExp(t,i)"
   ]
  }
 ],
 "metadata": {
  "kernelspec": {
   "display_name": "base",
   "language": "python",
   "name": "python3"
  },
  "language_info": {
   "codemirror_mode": {
    "name": "ipython",
    "version": 3
   },
   "file_extension": ".py",
   "mimetype": "text/x-python",
   "name": "python",
   "nbconvert_exporter": "python",
   "pygments_lexer": "ipython3",
   "version": "3.11.5"
  }
 },
 "nbformat": 4,
 "nbformat_minor": 2
}
