{
 "cells": [
  {
   "cell_type": "code",
   "execution_count": 5,
   "metadata": {},
   "outputs": [],
   "source": [
    "import subprocess\n",
    "# executable_path = \"\", \n",
    "executable_path = \"std.exe\"\n",
    "def run_cpp_executable(input_file, output_file):\n",
    "    command = [executable_path, '<', input_file, '>', output_file]\n",
    "    try:\n",
    "        subprocess.run(command, check=True, shell=True)\n",
    "        print(f\"Generate Complete to -> {output_file}\")\n",
    "    except subprocess.CalledProcessError as e:\n",
    "        print(f\"Excutr Exception: {e}\")\n",
    "    except Exception as e:\n",
    "        print(f\"Excutr Exception: {e}\")\n",
    "\n",
    "# 使用示例\n",
    "# input_path = 'path/to/your/input_file.txt'\n",
    "# output_path = 'path/to/your/output_file.txt'\n",
    "# cpp_executable = 'path/to/your/executable.exe'\n",
    "\n",
    "# run_cpp_executable(input_path, output_path, cpp_executable)"
   ]
  },
  {
   "cell_type": "code",
   "execution_count": 7,
   "metadata": {},
   "outputs": [
    {
     "name": "stdout",
     "output_type": "stream",
     "text": [
      "处理完成，输出已保存到 12.out\n",
      "处理完成，输出已保存到 13.out\n",
      "处理完成，输出已保存到 14.out\n",
      "处理完成，输出已保存到 15.out\n",
      "处理完成，输出已保存到 16.out\n",
      "处理完成，输出已保存到 17.out\n",
      "处理完成，输出已保存到 18.out\n",
      "处理完成，输出已保存到 19.out\n",
      "处理完成，输出已保存到 20.out\n"
     ]
    }
   ],
   "source": [
    "for i in range(21,30):\n",
    "    run_cpp_executable(str(i+1)+\".in\",str(i+1)+\".out\")"
   ]
  },
  {
   "cell_type": "code",
   "execution_count": null,
   "metadata": {},
   "outputs": [],
   "source": []
  }
 ],
 "metadata": {
  "kernelspec": {
   "display_name": "base",
   "language": "python",
   "name": "python3"
  },
  "language_info": {
   "codemirror_mode": {
    "name": "ipython",
    "version": 3
   },
   "file_extension": ".py",
   "mimetype": "text/x-python",
   "name": "python",
   "nbconvert_exporter": "python",
   "pygments_lexer": "ipython3",
   "version": "3.11.5"
  }
 },
 "nbformat": 4,
 "nbformat_minor": 2
}
