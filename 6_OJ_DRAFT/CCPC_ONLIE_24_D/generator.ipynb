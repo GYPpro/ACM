{
 "cells": [
  {
   "cell_type": "code",
   "execution_count": 4,
   "metadata": {},
   "outputs": [],
   "source": [
    "import numpy as np\n",
    "import pandas as pd\n",
    "import random\n",
    "import string"
   ]
  },
  {
   "cell_type": "code",
   "execution_count": 3,
   "metadata": {},
   "outputs": [],
   "source": []
  },
  {
   "cell_type": "code",
   "execution_count": 5,
   "metadata": {},
   "outputs": [],
   "source": []
  },
  {
   "cell_type": "code",
   "execution_count": 14,
   "metadata": {},
   "outputs": [],
   "source": [
    "# TESTCASE_NUMBER = 5\n",
    "# TESTCASE_TYPE = 1\n",
    "def gnc(TESTCASE_NUMBER):\n",
    "    IN_VALUE = \"\"\n",
    "    OUT_VALUE = \"\"\n",
    "\n",
    "    n = 100\n",
    "    # IN_VALUE += str(TESTCASE_TYPE) + \"\\n\"\n",
    "    # IN_VALUE += str(n) + \"\\n\"\n",
    "    LIST = [IN_VALUE]\n",
    "    \n",
    "\n",
    "    IN_VALUE = ''.join(random.choice(['a','b']) for _ in range(100)) + \" \" + ''.join(random.choice(['a','b']) for _ in range(100))\n",
    "\n",
    "\n",
    "    IN = open(str(TESTCASE_NUMBER)+\".in\",\"w\");\n",
    "    OUT = open(str(TESTCASE_NUMBER)+\".out\",\"w\");\n",
    "    IN.write(IN_VALUE)\n",
    "    OUT.write(OUT_VALUE)\n",
    "    IN.close()\n",
    "    OUT.close()"
   ]
  },
  {
   "cell_type": "code",
   "execution_count": 15,
   "metadata": {},
   "outputs": [],
   "source": [
    "for i in range(21,30):\n",
    "    gnc(i+1)"
   ]
  },
  {
   "cell_type": "code",
   "execution_count": null,
   "metadata": {},
   "outputs": [],
   "source": []
  }
 ],
 "metadata": {
  "kernelspec": {
   "display_name": "base",
   "language": "python",
   "name": "python3"
  },
  "language_info": {
   "codemirror_mode": {
    "name": "ipython",
    "version": 3
   },
   "file_extension": ".py",
   "mimetype": "text/x-python",
   "name": "python",
   "nbconvert_exporter": "python",
   "pygments_lexer": "ipython3",
   "version": "3.11.5"
  }
 },
 "nbformat": 4,
 "nbformat_minor": 2
}
