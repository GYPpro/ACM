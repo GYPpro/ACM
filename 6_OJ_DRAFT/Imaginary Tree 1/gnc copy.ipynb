{
 "cells": [
  {
   "cell_type": "code",
   "execution_count": 15,
   "metadata": {},
   "outputs": [],
   "source": [
    "import pandas as pd\n",
    "import numpy as np\n",
    "import subprocess as sp"
   ]
  },
  {
   "cell_type": "code",
   "execution_count": 16,
   "metadata": {},
   "outputs": [],
   "source": [
    "def randi(l:int,r:int,t:int):\n",
    "    if t > 0:\n",
    "        flag = np.random.randint(0,t)\n",
    "    else :\n",
    "        flag = np.random.randint(0,-t)\n",
    "    if flag == 0:\n",
    "        return np.random.randint(l,r+1)\n",
    "    else:\n",
    "        if t > 0:\n",
    "            return r\n",
    "        else:\n",
    "            return l\n",
    "    # mx = l-1\n",
    "    # if t < 0 : mx = r+1\n",
    "    # times = abs(t)\n",
    "    # for i in range(times):\n",
    "    #     if t > 0:\n",
    "    #         mx = max(mx,np.random.randint(l,r+1))\n",
    "    #     else:\n",
    "    #         mx = min(mx,np.random.randint(l,r+1))\n",
    "    # return int(mx)"
   ]
  },
  {
   "cell_type": "code",
   "execution_count": 17,
   "metadata": {},
   "outputs": [],
   "source": [
    "def gncCommonTree(n:int,t:int) : # 节点数和伸展度\n",
    "    p = [0 for i in range(0,n+1)]\n",
    "    for i in range(2,n+1):\n",
    "        p[i] = int(randi(1,i-1,t))\n",
    "    edgevec = []\n",
    "    for i in range(2,n+1):\n",
    "        edgevec.append((i,p[i]))\n",
    "        # print (f\"{i} {p[i]}\")\n",
    "    peri = [i+1 for i in np.random.permutation(n)]\n",
    "    # print(edgevec)\n",
    "    # print(peri)\n",
    "    # [print(f\"{i[0]} {i[1]},{peri[i[0]-1]} {peri[i[1]]-1}\") for i in edgevec]\n",
    "    edgevec = [[peri[i[0]-1],peri[i[1]-1]] for i in edgevec]\n",
    "    for i in range(len(edgevec)):\n",
    "        np.random.shuffle(edgevec[i])\n",
    "    np.random.shuffle(edgevec)\n",
    "    print(f\"finish tree gnc with {n} nodes and {t} spread\")\n",
    "    return edgevec"
   ]
  },
  {
   "cell_type": "code",
   "execution_count": 18,
   "metadata": {},
   "outputs": [
    {
     "name": "stdout",
     "output_type": "stream",
     "text": [
      "finish tree gnc with 10 nodes and -100 spread\n"
     ]
    },
    {
     "data": {
      "text/plain": [
       "[[4, 9], [2, 4], [4, 8], [10, 4], [4, 7], [5, 4], [4, 1], [4, 6], [4, 3]]"
      ]
     },
     "execution_count": 18,
     "metadata": {},
     "output_type": "execute_result"
    }
   ],
   "source": [
    "gncCommonTree(10,-100)"
   ]
  },
  {
   "cell_type": "code",
   "execution_count": 19,
   "metadata": {},
   "outputs": [],
   "source": [
    "# def gncTestCases(len:int):\n",
    "#     lst = []\n",
    "#     for i in range(len):\n",
    "#         lst.append(str(np.random.randint(0,2)))\n",
    "#     return \"\".join(lst)"
   ]
  },
  {
   "cell_type": "code",
   "execution_count": 20,
   "metadata": {},
   "outputs": [],
   "source": [
    "def gncCommonQue(n:int,q:int):\n",
    "    lst = []\n",
    "    for i in range(q):\n",
    "        lst.append((np.random.randint(1,n+1),np.random.randint(1,n+1)))\n",
    "        while lst[i][0] == lst[i][1]:\n",
    "            lst[i] = (np.random.randint(1,n+1),np.random.randint(1,n+1))\n",
    "    return lst"
   ]
  },
  {
   "cell_type": "code",
   "execution_count": 21,
   "metadata": {},
   "outputs": [],
   "source": [
    "def gncIn(n:int, q:int,tr:list,que:list):\n",
    "    RTSTR = []\n",
    "    RTSTR.append(str(n) + \"\\n\")\n",
    "    for i in tr:\n",
    "        RTSTR.append(str(i[0]) + \" \" + str(i[1]) + \"\\n\")\n",
    "    RTSTR.append(str(q) + \"\\n\")\n",
    "    for i in que:\n",
    "        RTSTR.append(str(i[0]) + \" \" + str(i[1]) + \"\\n\")\n",
    "    return \"\".join(RTSTR)\n"
   ]
  },
  {
   "cell_type": "code",
   "execution_count": 22,
   "metadata": {},
   "outputs": [
    {
     "name": "stdout",
     "output_type": "stream",
     "text": [
      "finish tree gnc with 10 nodes and 1 spread\n",
      "10\n",
      "7 8\n",
      "3 9\n",
      "4 3\n",
      "5 7\n",
      "3 8\n",
      "6 2\n",
      "1 2\n",
      "1 7\n",
      "7 10\n",
      "10\n",
      "7 5\n",
      "7 10\n",
      "7 8\n",
      "2 3\n",
      "7 2\n",
      "4 9\n",
      "5 4\n",
      "6 5\n",
      "6 7\n",
      "3 8\n",
      "\n"
     ]
    }
   ],
   "source": [
    "print(gncIn(10,10,gncCommonTree(10,1),gncCommonQue(10,10)))"
   ]
  },
  {
   "cell_type": "code",
   "execution_count": 23,
   "metadata": {},
   "outputs": [],
   "source": [
    "def std(inv:str):\n",
    "    INF = open(f\"temp.in\",\"w\")\n",
    "    INF.write(inv)\n",
    "    INF.close()\n",
    "    sp.run(\"std.exe\")\n",
    "    return open(\"temp.out\",\"r\").read()"
   ]
  },
  {
   "cell_type": "code",
   "execution_count": 24,
   "metadata": {},
   "outputs": [
    {
     "name": "stdout",
     "output_type": "stream",
     "text": [
      "finish tree gnc with 10 nodes and 1 spread\n",
      "10\n",
      "8 4\n",
      "3 9\n",
      "3 6\n",
      "7 4\n",
      "5 3\n",
      "1 2\n",
      "2 7\n",
      "4 9\n",
      "10 3\n",
      "10\n",
      "1 6\n",
      "6 10\n",
      "6 4\n",
      "6 8\n",
      "8 3\n",
      "1 4\n",
      "5 10\n",
      "6 5\n",
      "1 9\n",
      "6 8\n",
      "\n",
      "6\n",
      "2\n",
      "6\n",
      "4\n",
      "4\n",
      "6\n",
      "2\n",
      "2\n",
      "6\n",
      "4\n",
      "\n"
     ]
    }
   ],
   "source": [
    "n = 10\n",
    "a = gncIn(n,n,gncCommonTree(n,1),gncCommonQue(n,n))\n",
    "# b = gncOutput(n)}\n",
    "print(a)\n",
    "print(std(a))"
   ]
  },
  {
   "cell_type": "code",
   "execution_count": 25,
   "metadata": {},
   "outputs": [],
   "source": [
    "def gncExp(i:int,n:int,q:int,t:int):\n",
    "    INF = open(f\"{i}.in\",\"w\")\n",
    "    OUTF = open(f\"{i}.out\",\"w\")\n",
    "    INSTR = gncIn(n,q,gncCommonTree(n,t),gncCommonQue(n,q))\n",
    "    OUTSTR = std(INSTR)\n",
    "    # print(OUTSTR)\n",
    "    INF.write(INSTR)\n",
    "    OUTF.write(OUTSTR)\n",
    "    INF.close()\n",
    "    OUTF.close()"
   ]
  },
  {
   "cell_type": "code",
   "execution_count": 26,
   "metadata": {},
   "outputs": [
    {
     "name": "stdout",
     "output_type": "stream",
     "text": [
      "finish tree gnc with 10 nodes and 1 spread\n"
     ]
    }
   ],
   "source": [
    "gncExp(0,10,10,1)"
   ]
  },
  {
   "cell_type": "code",
   "execution_count": 27,
   "metadata": {},
   "outputs": [],
   "source": [
    "TESTCASES_NUMBER = 0\n",
    "N = int(1e5)"
   ]
  },
  {
   "cell_type": "code",
   "execution_count": 28,
   "metadata": {},
   "outputs": [
    {
     "name": "stdout",
     "output_type": "stream",
     "text": [
      "finish tree gnc with 100000 nodes and 1 spread\n",
      "finish tree gnc with 100000 nodes and 1 spread\n",
      "finish tree gnc with 100000 nodes and 1 spread\n",
      "finish tree gnc with 100000 nodes and 1 spread\n",
      "finish tree gnc with 100000 nodes and 1 spread\n",
      "finish tree gnc with 100000 nodes and 1 spread\n",
      "finish tree gnc with 100000 nodes and 1 spread\n",
      "finish tree gnc with 100000 nodes and 1 spread\n",
      "finish tree gnc with 100000 nodes and 1 spread\n",
      "finish tree gnc with 100000 nodes and 1 spread\n"
     ]
    }
   ],
   "source": [
    "# t = 1\n",
    "for i in range(10):\n",
    "    TESTCASES_NUMBER += 1\n",
    "    gncExp(TESTCASES_NUMBER,N,N,1)"
   ]
  },
  {
   "cell_type": "code",
   "execution_count": 29,
   "metadata": {},
   "outputs": [
    {
     "name": "stdout",
     "output_type": "stream",
     "text": [
      "finish tree gnc with 100000 nodes and 10000 spread\n"
     ]
    },
    {
     "data": {
      "text/plain": [
       "11"
      ]
     },
     "execution_count": 29,
     "metadata": {},
     "output_type": "execute_result"
    }
   ],
   "source": [
    "TESTCASES_NUMBER += 1\n",
    "gncExp(TESTCASES_NUMBER,N,N,10000)\n",
    "TESTCASES_NUMBER"
   ]
  },
  {
   "cell_type": "code",
   "execution_count": 30,
   "metadata": {},
   "outputs": [
    {
     "name": "stdout",
     "output_type": "stream",
     "text": [
      "finish tree gnc with 100000 nodes and -100000 spread\n",
      "finish tree gnc with 100000 nodes and -1000 spread\n",
      "finish tree gnc with 100000 nodes and -10 spread\n",
      "finish tree gnc with 100000 nodes and -1 spread\n",
      "finish tree gnc with 100000 nodes and 1 spread\n",
      "finish tree gnc with 100000 nodes and 10 spread\n",
      "finish tree gnc with 100000 nodes and 1000 spread\n",
      "finish tree gnc with 100000 nodes and 100000 spread\n",
      "finish tree gnc with 100000 nodes and -100000 spread\n",
      "finish tree gnc with 100000 nodes and -1000 spread\n",
      "finish tree gnc with 100000 nodes and -10 spread\n",
      "finish tree gnc with 100000 nodes and -1 spread\n",
      "finish tree gnc with 100000 nodes and 1 spread\n",
      "finish tree gnc with 100000 nodes and 10 spread\n",
      "finish tree gnc with 100000 nodes and 1000 spread\n",
      "finish tree gnc with 100000 nodes and 100000 spread\n",
      "finish tree gnc with 100000 nodes and -100000 spread\n",
      "finish tree gnc with 100000 nodes and -1000 spread\n",
      "finish tree gnc with 100000 nodes and -10 spread\n",
      "finish tree gnc with 100000 nodes and -1 spread\n",
      "finish tree gnc with 100000 nodes and 1 spread\n",
      "finish tree gnc with 100000 nodes and 10 spread\n",
      "finish tree gnc with 100000 nodes and 1000 spread\n",
      "finish tree gnc with 100000 nodes and 100000 spread\n",
      "finish tree gnc with 100000 nodes and -100000 spread\n",
      "finish tree gnc with 100000 nodes and -1000 spread\n",
      "finish tree gnc with 100000 nodes and -10 spread\n",
      "finish tree gnc with 100000 nodes and -1 spread\n",
      "finish tree gnc with 100000 nodes and 1 spread\n",
      "finish tree gnc with 100000 nodes and 10 spread\n",
      "finish tree gnc with 100000 nodes and 1000 spread\n",
      "finish tree gnc with 100000 nodes and 100000 spread\n",
      "finish tree gnc with 100000 nodes and -100000 spread\n",
      "finish tree gnc with 100000 nodes and -1000 spread\n",
      "finish tree gnc with 100000 nodes and -10 spread\n",
      "finish tree gnc with 100000 nodes and -1 spread\n",
      "finish tree gnc with 100000 nodes and 1 spread\n",
      "finish tree gnc with 100000 nodes and 10 spread\n",
      "finish tree gnc with 100000 nodes and 1000 spread\n",
      "finish tree gnc with 100000 nodes and 100000 spread\n"
     ]
    }
   ],
   "source": [
    "# t = 1\n",
    "for i in range(5):\n",
    "    for i in [-100000,-1000,-10,-1,1,10,1000,100000]:\n",
    "        TESTCASES_NUMBER += 1\n",
    "        gncExp(TESTCASES_NUMBER,N,N,i)"
   ]
  },
  {
   "cell_type": "code",
   "execution_count": 31,
   "metadata": {},
   "outputs": [],
   "source": [
    "def gncSpecialTree1(n:int) : # 节点数和伸展度\n",
    "    p = [0 for i in range(0,n+1)]\n",
    "    for i in range(2,n+1):\n",
    "        p[i] = int(randi(1,i-1,t))\n",
    "    edgevec = []\n",
    "    for i in range(2,n+1):\n",
    "        edgevec.append((i,p[i]))\n",
    "    # np.random.shuffle(edgevec)\n",
    "    return edgevec"
   ]
  },
  {
   "cell_type": "code",
   "execution_count": 32,
   "metadata": {},
   "outputs": [
    {
     "ename": "ZeroDivisionError",
     "evalue": "integer division or modulo by zero",
     "output_type": "error",
     "traceback": [
      "\u001b[1;31m---------------------------------------------------------------------------\u001b[0m",
      "\u001b[1;31mZeroDivisionError\u001b[0m                         Traceback (most recent call last)",
      "Cell \u001b[1;32mIn[32], line 5\u001b[0m\n\u001b[0;32m      3\u001b[0m TESTCASES_NUMBER\u001b[38;5;241m+\u001b[39m\u001b[38;5;241m=\u001b[39m \u001b[38;5;241m1\u001b[39m\n\u001b[0;32m      4\u001b[0m n \u001b[38;5;241m=\u001b[39m i\n\u001b[1;32m----> 5\u001b[0m m \u001b[38;5;241m=\u001b[39m MAX \u001b[38;5;241m/\u001b[39m\u001b[38;5;241m/\u001b[39m n\n\u001b[0;32m      6\u001b[0m \u001b[38;5;28;01mif\u001b[39;00m TESTCASES_NUMBER \u001b[38;5;241m%\u001b[39m \u001b[38;5;241m2\u001b[39m \u001b[38;5;241m==\u001b[39m \u001b[38;5;241m0\u001b[39m:\n\u001b[0;32m      7\u001b[0m     tmp \u001b[38;5;241m=\u001b[39m m\n",
      "\u001b[1;31mZeroDivisionError\u001b[0m: integer division or modulo by zero"
     ]
    }
   ],
   "source": [
    "MAX = int(1e6)\n",
    "for i in range(10):\n",
    "    TESTCASES_NUMBER+= 1\n",
    "    n = i\n",
    "    m = MAX // n\n",
    "    if TESTCASES_NUMBER % 2 == 0:\n",
    "        tmp = m\n",
    "        m = n\n",
    "        n = tmp\n",
    "    gncExp(TESTCASES_NUMBER,n,m)"
   ]
  }
 ],
 "metadata": {
  "kernelspec": {
   "display_name": "base",
   "language": "python",
   "name": "python3"
  },
  "language_info": {
   "codemirror_mode": {
    "name": "ipython",
    "version": 3
   },
   "file_extension": ".py",
   "mimetype": "text/x-python",
   "name": "python",
   "nbconvert_exporter": "python",
   "pygments_lexer": "ipython3",
   "version": "3.11.5"
  }
 },
 "nbformat": 4,
 "nbformat_minor": 2
}
