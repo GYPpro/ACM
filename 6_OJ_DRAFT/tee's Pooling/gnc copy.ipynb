{
 "cells": [
  {
   "cell_type": "code",
   "execution_count": 2,
   "metadata": {},
   "outputs": [],
   "source": [
    "import pandas as pd\n",
    "import numpy as np\n",
    "import subprocess as sp"
   ]
  },
  {
   "cell_type": "code",
   "execution_count": 4,
   "metadata": {},
   "outputs": [],
   "source": [
    "RANGE1 =int(1e9)\n",
    "INF = int(1e6)"
   ]
  },
  {
   "cell_type": "code",
   "execution_count": 3,
   "metadata": {},
   "outputs": [],
   "source": [
    "def gncTestCases(len:int):\n",
    "    lst = []\n",
    "    for i in range(len):\n",
    "        lst.append(str(np.random.randint(0,2)))\n",
    "    return \"\".join(lst)"
   ]
  },
  {
   "cell_type": "code",
   "execution_count": 5,
   "metadata": {},
   "outputs": [],
   "source": [
    "def gncIn(n:int, m:int):\n",
    "    RTSTR = [str(n) + \" \" + str(m) + \"\\n\"]\n",
    "    for i in range(n):\n",
    "        for j in range(m):\n",
    "            RTSTR.append(str(np.random.randint(0, RANGE1)) + \" \")\n",
    "        RTSTR.append(\"\\n\")\n",
    "    RTSTR.append([\"Max\",\"Floor\"][np.random.randint(0,2)] + \"\\n\")\n",
    "    return \"\".join(RTSTR)"
   ]
  },
  {
   "cell_type": "code",
   "execution_count": 6,
   "metadata": {},
   "outputs": [],
   "source": [
    "def std(inv:str):\n",
    "    INF = open(f\"temp.in\",\"w\")\n",
    "    INF.write(inv)\n",
    "    INF.close()\n",
    "    sp.run(\"std.exe\")\n",
    "    return open(\"temp.out\",\"r\").read()"
   ]
  },
  {
   "cell_type": "code",
   "execution_count": 7,
   "metadata": {},
   "outputs": [
    {
     "name": "stdout",
     "output_type": "stream",
     "text": [
      "10 10\n",
      "945350017 953702484 49584488 703061814 953942906 227830069 14894430 835468143 4990056 295770035 \n",
      "948434894 621366827 81034862 60681955 537699410 376136286 171906970 541433466 169616987 328025139 \n",
      "154113938 243118370 824857491 711966830 993593636 135349672 668428272 29375663 479999362 152065755 \n",
      "303322704 155756671 646621367 429475872 680597726 499994660 133589549 125023302 697342337 67445979 \n",
      "268185934 670767469 758108077 12750011 114897312 866420475 442977442 384629213 956653386 169433969 \n",
      "986642246 720072737 699518399 902046645 906543265 103161753 702979915 876337085 391978655 957459859 \n",
      "367428441 69413189 776658178 99792229 224987392 548147547 342683399 562410130 833621547 669631141 \n",
      "671772261 777082207 785369626 723631248 243354968 502700556 128856470 139295720 423800767 18535565 \n",
      "617543048 396606298 178624071 452755056 302340934 17911924 624736523 85561229 74394598 492571576 \n",
      "989395686 325405687 690153255 683127871 625481951 579495829 840509059 267831232 634460579 325009933 \n",
      "Max\n",
      "\n",
      "953702484 953702484 703061814 953942906 953942906 376136286 835468143 835468143 328025139 \n",
      "948434894 824857491 824857491 993593636 993593636 668428272 668428272 541433466 479999362 \n",
      "303322704 824857491 824857491 993593636 993593636 668428272 668428272 697342337 697342337 \n",
      "670767469 758108077 758108077 680597726 866420475 866420475 442977442 956653386 956653386 \n",
      "986642246 758108077 902046645 906543265 906543265 866420475 876337085 956653386 957459859 \n",
      "986642246 776658178 902046645 906543265 906543265 702979915 876337085 876337085 957459859 \n",
      "777082207 785369626 785369626 723631248 548147547 548147547 562410130 833621547 833621547 \n",
      "777082207 785369626 785369626 723631248 502700556 624736523 624736523 423800767 492571576 \n",
      "989395686 690153255 690153255 683127871 625481951 840509059 840509059 634460579 634460579 \n",
      "\n"
     ]
    }
   ],
   "source": [
    "n = 10\n",
    "a = gncIn(n,n)\n",
    "# b = gncOutput(n)}\n",
    "print(a)\n",
    "print(std(a))"
   ]
  },
  {
   "cell_type": "code",
   "execution_count": 8,
   "metadata": {},
   "outputs": [],
   "source": [
    "def gncExp(i:int,n:int,m:int):\n",
    "    INF = open(f\"{i}.in\",\"w\")\n",
    "    OUTF = open(f\"{i}.out\",\"w\")\n",
    "    INSTR = gncIn(n,m)\n",
    "    OUTSTR = std(INSTR)\n",
    "    INF.write(INSTR)\n",
    "    OUTF.write(OUTSTR)\n",
    "    INF.close()\n",
    "    OUTF.close()"
   ]
  },
  {
   "cell_type": "code",
   "execution_count": 11,
   "metadata": {},
   "outputs": [],
   "source": [
    "t = 0"
   ]
  },
  {
   "cell_type": "code",
   "execution_count": 12,
   "metadata": {},
   "outputs": [],
   "source": [
    "for i in [2,10,10,int(1e3),int(1e3),int(1e3),int(1e3)]:\n",
    "    t += 1\n",
    "    gncExp(t,i,i)"
   ]
  },
  {
   "cell_type": "code",
   "execution_count": 13,
   "metadata": {},
   "outputs": [],
   "source": [
    "for i in range(20):\n",
    "    t += 1\n",
    "    n = np.random.randint(2,int(1e3))\n",
    "    m = np.random.randint(2,int(1e3))\n",
    "    gncExp(t,n,m)"
   ]
  },
  {
   "cell_type": "code",
   "execution_count": null,
   "metadata": {},
   "outputs": [],
   "source": []
  }
 ],
 "metadata": {
  "kernelspec": {
   "display_name": "base",
   "language": "python",
   "name": "python3"
  },
  "language_info": {
   "codemirror_mode": {
    "name": "ipython",
    "version": 3
   },
   "file_extension": ".py",
   "mimetype": "text/x-python",
   "name": "python",
   "nbconvert_exporter": "python",
   "pygments_lexer": "ipython3",
   "version": "3.11.5"
  }
 },
 "nbformat": 4,
 "nbformat_minor": 2
}
