{
 "cells": [
  {
   "cell_type": "code",
   "execution_count": 1,
   "metadata": {},
   "outputs": [],
   "source": [
    "import pandas as pd\n",
    "import numpy as np\n",
    "import subprocess as sp"
   ]
  },
  {
   "cell_type": "code",
   "execution_count": 2,
   "metadata": {},
   "outputs": [],
   "source": [
    "RANGE1 = 10\n",
    "INF = int(1e6)"
   ]
  },
  {
   "cell_type": "code",
   "execution_count": null,
   "metadata": {},
   "outputs": [],
   "source": [
    "# def gncTestCases(len:int):\n",
    "#     lst = []\n",
    "#     for i in range(len):\n",
    "#         lst.append(str(np.random.randint(0,2)))\n",
    "#     return \"\".join(lst)"
   ]
  },
  {
   "cell_type": "code",
   "execution_count": null,
   "metadata": {},
   "outputs": [],
   "source": [
    "# def gncIn(n:int):\n",
    "#     RTSTR = str(n) + '\\n'\n",
    "#     tcl = []\n",
    "#     for i in range(n):\n",
    "#         tcl.append(gncTestCases(INF//n + np.random.randint(-INF//(2*n),INF//(2*n))))\n",
    "#         tcl.append('\\n')\n",
    "#     return \"\".join([RTSTR] + tcl)\n",
    "    "
   ]
  },
  {
   "cell_type": "code",
   "execution_count": 11,
   "metadata": {},
   "outputs": [],
   "source": [
    "def gncIn(n:int,q:int):\n",
    "    RTSTR = str(n) + ' ' + str(q) + '\\n'\n",
    "    mglst1 = []\n",
    "    for _ in range(n):\n",
    "        mglst1.append(str(np.random.randint(0,2)))\n",
    "    mglst1.append('\\n')\n",
    "    mglst2 = []\n",
    "    for _ in range(q):\n",
    "        l = np.random.randint(1,n+1)\n",
    "        r = np.random.randint(1,n+1)\n",
    "        if l > r:\n",
    "            l,r = r,l\n",
    "        mglst2.append(str(l) + ' ' + str(r) + '\\n')\n",
    "    return \"\".join([RTSTR] + mglst1 + mglst2) "
   ]
  },
  {
   "cell_type": "code",
   "execution_count": 5,
   "metadata": {},
   "outputs": [],
   "source": [
    "def std(inv:str):\n",
    "    INF = open(f\"temp.in\",\"w\")\n",
    "    INF.write(inv)\n",
    "    INF.close()\n",
    "    sp.run(\"std.exe\")\n",
    "    return open(\"temp.out\",\"r\").read()"
   ]
  },
  {
   "cell_type": "code",
   "execution_count": 15,
   "metadata": {},
   "outputs": [
    {
     "name": "stdout",
     "output_type": "stream",
     "text": [
      "10 10\n",
      "0110100111\n",
      "8 8\n",
      "2 10\n",
      "1 9\n",
      "3 7\n",
      "8 10\n",
      "1 8\n",
      "1 2\n",
      "5 6\n",
      "7 8\n",
      "2 8\n",
      "\n",
      "1\n",
      "6\n",
      "6\n",
      "3\n",
      "3\n",
      "5\n",
      "2\n",
      "1\n",
      "2\n",
      "4\n",
      "\n"
     ]
    }
   ],
   "source": [
    "n = 10\n",
    "a = gncIn(n,n)\n",
    "print(a)\n",
    "print(std(a))"
   ]
  },
  {
   "cell_type": "code",
   "execution_count": 27,
   "metadata": {},
   "outputs": [],
   "source": [
    "def gncIn(n:int,q:int): #特殊样例，覆盖gncIn\n",
    "    RTSTR = str(n) + ' ' + str(q) + '\\n'\n",
    "    mglst1 = []\n",
    "    for _ in range(n):\n",
    "        mglst1.append(str(np.random.randint(1,2)))\n",
    "    mglst1.append('\\n')\n",
    "    mglst2 = []\n",
    "    for _ in range(q):\n",
    "        l = 1\n",
    "        r = n\n",
    "        # l = np.random.randint(1,n+1)\n",
    "        # r = np.random.randint(1,n+1)\n",
    "        # if l > r:\n",
    "        #     l,r = r,l\n",
    "        mglst2.append(str(l) + ' ' + str(r) + '\\n')\n",
    "    return \"\".join([RTSTR] + mglst1 + mglst2) "
   ]
  },
  {
   "cell_type": "code",
   "execution_count": 16,
   "metadata": {},
   "outputs": [],
   "source": [
    "def gncExp(i:int,n:int,q:int):\n",
    "    INF = open(f\"{i}.in\",\"w\")\n",
    "    OUTF = open(f\"{i}.out\",\"w\")\n",
    "    INSTR = gncIn(n,q)\n",
    "    OUTSTR = std(INSTR)\n",
    "    INF.write(INSTR)\n",
    "    OUTF.write(OUTSTR)\n",
    "    INF.close()\n",
    "    OUTF.close()"
   ]
  },
  {
   "cell_type": "code",
   "execution_count": 28,
   "metadata": {},
   "outputs": [],
   "source": [
    "gncExp(11,int(1e5),int(1e5))"
   ]
  },
  {
   "cell_type": "code",
   "execution_count": 19,
   "metadata": {},
   "outputs": [],
   "source": [
    "t = 1\n",
    "for i in [3,5,7,9,10,int(1e5),int(1e5)]:\n",
    "    t += 1\n",
    "    gncExp(t,i,i)"
   ]
  },
  {
   "cell_type": "code",
   "execution_count": null,
   "metadata": {},
   "outputs": [],
   "source": []
  }
 ],
 "metadata": {
  "kernelspec": {
   "display_name": "base",
   "language": "python",
   "name": "python3"
  },
  "language_info": {
   "codemirror_mode": {
    "name": "ipython",
    "version": 3
   },
   "file_extension": ".py",
   "mimetype": "text/x-python",
   "name": "python",
   "nbconvert_exporter": "python",
   "pygments_lexer": "ipython3",
   "version": "3.11.5"
  }
 },
 "nbformat": 4,
 "nbformat_minor": 2
}
