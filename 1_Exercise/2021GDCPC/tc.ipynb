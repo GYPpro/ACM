{
 "cells": [
  {
   "cell_type": "code",
   "execution_count": 4,
   "metadata": {},
   "outputs": [
    {
     "name": "stdout",
     "output_type": "stream",
     "text": [
      "12 316\n",
      "100 300\n",
      "180 260\n",
      "260 180\n",
      "300 100\n"
     ]
    }
   ],
   "source": [
    "import math as mt\n",
    "\n",
    "for i in range(int(mt.sqrt(1e5))):\n",
    "    if(mt.sqrt(1e5-i**2) == int(mt.sqrt(1e5-i**2))):\n",
    "        print(i, int(mt.sqrt(1e5-i**2)))"
   ]
  },
  {
   "cell_type": "code",
   "execution_count": null,
   "metadata": {},
   "outputs": [],
   "source": []
  }
 ],
 "metadata": {
  "kernelspec": {
   "display_name": "base",
   "language": "python",
   "name": "python3"
  },
  "language_info": {
   "codemirror_mode": {
    "name": "ipython",
    "version": 3
   },
   "file_extension": ".py",
   "mimetype": "text/x-python",
   "name": "python",
   "nbconvert_exporter": "python",
   "pygments_lexer": "ipython3",
   "version": "3.11.5"
  }
 },
 "nbformat": 4,
 "nbformat_minor": 2
}
