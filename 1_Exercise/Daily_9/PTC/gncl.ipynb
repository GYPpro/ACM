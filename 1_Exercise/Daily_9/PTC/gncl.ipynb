{
 "cells": [
  {
   "cell_type": "code",
   "execution_count": 1,
   "metadata": {},
   "outputs": [],
   "source": [
    "import math as mt"
   ]
  },
  {
   "cell_type": "code",
   "execution_count": 7,
   "metadata": {},
   "outputs": [
    {
     "name": "stdout",
     "output_type": "stream",
     "text": [
      "length 9 : 26771144400\n"
     ]
    }
   ],
   "source": [
    "t = [int(x) for x in input().split()]\n",
    "ins = 1\n",
    "for x in t:\n",
    "    ins = mt.lcm(ins, x)\n",
    "print(f\"length {len(t)} : {ins}\")\n"
   ]
  },
  {
   "cell_type": "markdown",
   "metadata": {},
   "source": [
    "\n",
    "1:26\n",
    "26\n",
    "2:650\n",
    "25 26\n",
    "3:14950\n",
    "23 25 26\n",
    "4:313950\n",
    "21 23 25 26\n",
    "5:5965050\n",
    "19 21 23 25 26\n",
    "6:101405850\n",
    "17 19 21 23 25 26\n",
    "7:1115464350\n",
    "13 17 19 21 22 23 25\n",
    "8:8923714800\n",
    "11 13 16 17 19 21 23 25\n",
    "9:26771144400\n",
    "7 9 11 13 16 17 19 23 25\n",
    "10:26771144400\n",
    "1 7 9 11 13 16 17 19 23 25\n",
    "11:26771144400\n",
    "1 2 7 9 11 13 16 17 19 23 25\n",
    "12:26771144400\n",
    "1 2 3 7 9 11 13 16 17 19 23 25\n",
    "13:26771144400\n",
    "1 2 3 4 7 9 11 13 16 17 19 23 25\n",
    "14:26771144400\n",
    "1 2 3 4 5 7 9 11 13 16 17 19 23 25\n",
    "15:26771144400\n",
    "1 2 3 4 5 6 7 9 11 13 16 17 19 23 25\n",
    "16:26771144400\n",
    "1 2 3 4 5 6 7 8 9 11 13 16 17 19 23 25\n",
    "17:26771144400\n",
    "1 2 3 4 5 6 7 8 9 10 11 13 16 17 19 23 25\n",
    "18:26771144400\n",
    "1 2 3 4 5 6 7 8 9 10 11 12 13 16 17 19 23 25\n",
    "19:26771144400\n",
    "1 2 3 4 5 6 7 8 9 10 11 12 13 14 16 17 19 23 25\n",
    "20:26771144400\n",
    "1 2 3 4 5 6 7 8 9 10 11 12 13 14 15 16 17 19 23 25\n",
    "21:26771144400\n",
    "1 2 3 4 5 6 7 8 9 10 11 12 13 14 15 16 17 18 19 23 25\n",
    "22:26771144400\n",
    "1 2 3 4 5 6 7 8 9 10 11 12 13 14 15 16 17 18 19 20 23 25\n",
    "23:26771144400\n",
    "1 2 3 4 5 6 7 8 9 10 11 12 13 14 15 16 17 18 19 20 21 23 25\n",
    "24:26771144400\n",
    "1 2 3 4 5 6 7 8 9 10 11 12 13 14 15 16 17 18 19 20 21 22 23 25\n",
    "25:26771144400\n",
    "1 2 3 4 5 6 7 8 9 10 11 12 13 14 15 16 17 18 19 20 21 22 23 24 25"
   ]
  },
  {
   "cell_type": "code",
   "execution_count": 4,
   "metadata": {},
   "outputs": [
    {
     "data": {
      "text/plain": [
       "[25, 24, 23, 22, 21, 19, 18, 17, 16, 13]"
      ]
     },
     "execution_count": 4,
     "metadata": {},
     "output_type": "execute_result"
    }
   ],
   "source": [
    "t"
   ]
  },
  {
   "cell_type": "markdown",
   "metadata": {},
   "source": [
    "5 5\n",
    "3 2 2 2\n",
    "23\n",
    "11 2\n",
    "3 7\n",
    "19\n",
    "3 3 2\n",
    "17\n",
    "2 2 2 2 \n",
    "13\n",
    "->\n",
    "13 17 19 23 2 2 2 2 3 3 5 5 11 7\n",
    "13 17 19 23 16 9 25 11 7"
   ]
  },
  {
   "cell_type": "code",
   "execution_count": null,
   "metadata": {},
   "outputs": [],
   "source": []
  }
 ],
 "metadata": {
  "kernelspec": {
   "display_name": "base",
   "language": "python",
   "name": "python3"
  },
  "language_info": {
   "codemirror_mode": {
    "name": "ipython",
    "version": 3
   },
   "file_extension": ".py",
   "mimetype": "text/x-python",
   "name": "python",
   "nbconvert_exporter": "python",
   "pygments_lexer": "ipython3",
   "version": "3.11.5"
  }
 },
 "nbformat": 4,
 "nbformat_minor": 2
}
