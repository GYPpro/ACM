{
 "cells": [
  {
   "cell_type": "code",
   "execution_count": 1,
   "metadata": {},
   "outputs": [],
   "source": [
    "import numpy as np"
   ]
  },
  {
   "cell_type": "code",
   "execution_count": 43,
   "metadata": {},
   "outputs": [
    {
     "data": {
      "text/plain": [
       "array([[1, 5, 4, 3, 2],\n",
       "       [2, 1, 5, 4, 3],\n",
       "       [3, 2, 1, 5, 4],\n",
       "       [4, 3, 2, 1, 5],\n",
       "       [5, 4, 3, 2, 1]])"
      ]
     },
     "execution_count": 43,
     "metadata": {},
     "output_type": "execute_result"
    }
   ],
   "source": [
    "S = np.array([[1,5,4,3,2],[2,1,5,4,3],[3,2,1,5,4],[4,3,2,1,5],[5,4,3,2,1]])\n",
    "# np.linalg.inv(S)*75\n",
    "S"
   ]
  },
  {
   "cell_type": "markdown",
   "metadata": {},
   "source": []
  },
  {
   "cell_type": "code",
   "execution_count": 30,
   "metadata": {},
   "outputs": [
    {
     "data": {
      "text/plain": [
       "array([[-14.,   1.,   1.,   1.,  16.],\n",
       "       [ 16., -14.,   1.,   1.,   1.],\n",
       "       [  1.,  16., -14.,   1.,   1.],\n",
       "       [  1.,   1.,  16., -14.,   1.],\n",
       "       [  1.,   1.,   1.,  16., -14.]])"
      ]
     },
     "execution_count": 30,
     "metadata": {},
     "output_type": "execute_result"
    }
   ],
   "source": [
    "n = 5\n",
    "# S = np.array()\n",
    "# S\n",
    "S = np.array([[((n+x-i) % n) + 1 for i in range(1,n+1)] for x in range(1,n+1)])\n",
    "np.linalg.inv(S)*3*5*5 # 75"
   ]
  },
  {
   "cell_type": "code",
   "execution_count": 41,
   "metadata": {},
   "outputs": [
    {
     "data": {
      "text/plain": [
       "array([5., 5., 4., 1., 4., 5.])"
      ]
     },
     "execution_count": 41,
     "metadata": {},
     "output_type": "execute_result"
    }
   ],
   "source": [
    "n = 6\n",
    "S = np.array([[((n+x-i) % n) + 1 for i in range(1,n+1)] for x in range(1,n+1)])\n",
    "# np.linalg.inv(S)*6*7*3 # 126\n",
    "B = [81,75,75,93,93,87]\n",
    "np.linalg.inv(S) @ B"
   ]
  },
  {
   "cell_type": "code",
   "execution_count": 42,
   "metadata": {},
   "outputs": [
    {
     "data": {
      "text/plain": [
       "array([[-1.95999996e-02,  3.91960805e-10,  3.91960802e-10, ...,\n",
       "         3.91960804e-10,  3.91960804e-10,  1.96000004e-02],\n",
       "       [ 1.96000004e-02, -1.95999996e-02,  3.91960802e-10, ...,\n",
       "         3.91960804e-10,  3.91960804e-10,  3.91960804e-10],\n",
       "       [ 3.91960804e-10,  1.96000004e-02, -1.95999996e-02, ...,\n",
       "         3.91960804e-10,  3.91960804e-10,  3.91960804e-10],\n",
       "       ...,\n",
       "       [ 3.91960803e-10,  3.91960806e-10,  3.91960806e-10, ...,\n",
       "        -1.95999996e-02,  3.91961020e-10,  3.91960857e-10],\n",
       "       [ 3.91960806e-10,  3.91960803e-10,  3.91960803e-10, ...,\n",
       "         1.96000004e-02, -1.95999996e-02,  3.91960488e-10],\n",
       "       [ 3.91960803e-10,  3.91960806e-10,  3.91960803e-10, ...,\n",
       "         3.91960804e-10,  1.96000004e-02, -1.95999996e-02]])"
      ]
     },
     "execution_count": 42,
     "metadata": {},
     "output_type": "execute_result"
    }
   ],
   "source": [
    "n = 10000\n",
    "S = np.array([[((n+x-i) % n) + 1 for i in range(1,n+1)] for x in range(1,n+1)])\n",
    "np.linalg.inv(S)*2*7*7*2# 196"
   ]
  },
  {
   "cell_type": "code",
   "execution_count": 38,
   "metadata": {},
   "outputs": [
    {
     "data": {
      "text/plain": [
       "array([[-183.75,    5.25,    5.25,    5.25,    5.25,    5.25,    5.25,\n",
       "         194.25],\n",
       "       [ 194.25, -183.75,    5.25,    5.25,    5.25,    5.25,    5.25,\n",
       "           5.25],\n",
       "       [   5.25,  194.25, -183.75,    5.25,    5.25,    5.25,    5.25,\n",
       "           5.25],\n",
       "       [   5.25,    5.25,  194.25, -183.75,    5.25,    5.25,    5.25,\n",
       "           5.25],\n",
       "       [   5.25,    5.25,    5.25,  194.25, -183.75,    5.25,    5.25,\n",
       "           5.25],\n",
       "       [   5.25,    5.25,    5.25,    5.25,  194.25, -183.75,    5.25,\n",
       "           5.25],\n",
       "       [   5.25,    5.25,    5.25,    5.25,    5.25,  194.25, -183.75,\n",
       "           5.25],\n",
       "       [   5.25,    5.25,    5.25,    5.25,    5.25,    5.25,  194.25,\n",
       "        -183.75]])"
      ]
     },
     "execution_count": 38,
     "metadata": {},
     "output_type": "execute_result"
    }
   ],
   "source": []
  },
  {
   "cell_type": "code",
   "execution_count": 39,
   "metadata": {},
   "outputs": [
    {
     "data": {
      "text/plain": [
       "array([[1, 8, 7, 6, 5, 4, 3, 2],\n",
       "       [2, 1, 8, 7, 6, 5, 4, 3],\n",
       "       [3, 2, 1, 8, 7, 6, 5, 4],\n",
       "       [4, 3, 2, 1, 8, 7, 6, 5],\n",
       "       [5, 4, 3, 2, 1, 8, 7, 6],\n",
       "       [6, 5, 4, 3, 2, 1, 8, 7],\n",
       "       [7, 6, 5, 4, 3, 2, 1, 8],\n",
       "       [8, 7, 6, 5, 4, 3, 2, 1]])"
      ]
     },
     "execution_count": 39,
     "metadata": {},
     "output_type": "execute_result"
    }
   ],
   "source": [
    "S"
   ]
  },
  {
   "cell_type": "code",
   "execution_count": null,
   "metadata": {},
   "outputs": [],
   "source": []
  }
 ],
 "metadata": {
  "kernelspec": {
   "display_name": "base",
   "language": "python",
   "name": "python3"
  },
  "language_info": {
   "codemirror_mode": {
    "name": "ipython",
    "version": 3
   },
   "file_extension": ".py",
   "mimetype": "text/x-python",
   "name": "python",
   "nbconvert_exporter": "python",
   "pygments_lexer": "ipython3",
   "version": "3.11.5"
  }
 },
 "nbformat": 4,
 "nbformat_minor": 2
}
