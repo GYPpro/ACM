{
 "cells": [
  {
   "cell_type": "code",
   "execution_count": 10,
   "metadata": {},
   "outputs": [],
   "source": [
    "IN = open(\"1.in\",\"w\")\n",
    "OUT = open(\"1.out\",\"w\")\n",
    "\n",
    "n = 3000\n",
    "m = 3000\n",
    "IN_STRING = \"\"\n",
    "l = 1\n",
    "IN_STRING = str(n)+\" \" + str(m) + \" \" + str(l) + \"\\n1500 1500\\n\"\n",
    "IN_LIST = [IN_STRING]\n",
    "for i in range(n) :\n",
    "    # IN_STRING = IN_STRING.join(['.' for x in range(m)])\n",
    "    STT = []\n",
    "    for i in range(m):\n",
    "        STT.append('.')\n",
    "    IN_LIST.append(\"\".join(STT))\n",
    "# for x in  \n",
    "IN_STRING = \"\".join(IN_LIST);\n",
    "IN.write(IN_STRING)\n",
    "IN.close()"
   ]
  },
  {
   "cell_type": "code",
   "execution_count": null,
   "metadata": {},
   "outputs": [],
   "source": []
  }
 ],
 "metadata": {
  "kernelspec": {
   "display_name": "base",
   "language": "python",
   "name": "python3"
  },
  "language_info": {
   "codemirror_mode": {
    "name": "ipython",
    "version": 3
   },
   "file_extension": ".py",
   "mimetype": "text/x-python",
   "name": "python",
   "nbconvert_exporter": "python",
   "pygments_lexer": "ipython3",
   "version": "3.11.5"
  }
 },
 "nbformat": 4,
 "nbformat_minor": 2
}
