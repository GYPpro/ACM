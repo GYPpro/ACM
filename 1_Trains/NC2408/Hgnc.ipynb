{
 "cells": [
  {
   "cell_type": "code",
   "execution_count": 1,
   "metadata": {},
   "outputs": [],
   "source": [
    "rmlist = [\"speed\",\"sta\",\"power\",\"guts\",\"wis\",\"skill\"]"
   ]
  },
  {
   "cell_type": "code",
   "execution_count": 10,
   "metadata": {},
   "outputs": [],
   "source": [
    "inis = '''\n",
    "        // ------------- X ---------------\n",
    "        double dX = 1;\n",
    "        double sPresentX = base[lv][type][v2i[\"X\"]];\n",
    "        for(auto x:sclist) sPresentX += x.fi.X_a;\n",
    "        double mFriendsX = 1;\n",
    "        for(auto x:sclist) if(x.second) mFriendsX *= (1+0.01*x.first.friends);\n",
    "        double sPresentTrainX = 1;\n",
    "        for(auto x:sclist) sPresentTrainX += 0.01*x.fi.train;\n",
    "        double sPresentDriveX = 1;\n",
    "        for(auto x:sclist) sPresentDriveX += 0.01*x.fi.drive_a;\n",
    "        sPresentDriveX *= coe[this->drive];\n",
    "        sPresentDriveX ++;\n",
    "        double tX = 1 + 0.01 * um.X_m;\n",
    "        double raddX = 1;\n",
    "        for(auto x:sclist) raddX += 0.05;\n",
    "\n",
    "        if(\"X\" == \"speed\" && weight == 1) dX = 0;\n",
    "\n",
    "        um.X += (int)(dX * sPresentX * mFriendsX * sPresentTrainX * sPresentDriveX * tX * raddX );\n",
    "        \n",
    "        if(\"X\" != \"skill\") um.X = min(1200LL,um.X);\n",
    "        // ---------------end---------------\n",
    "\n",
    "'''"
   ]
  },
  {
   "cell_type": "code",
   "execution_count": 14,
   "metadata": {},
   "outputs": [],
   "source": [
    "inis = \"<< X << \\\" \\\"\""
   ]
  },
  {
   "cell_type": "code",
   "execution_count": 16,
   "metadata": {},
   "outputs": [],
   "source": [
    "inis = '''\n",
    "        // --- X ---\n",
    "        int sumX = this->X_0;\n",
    "        for(auto x:scs) sumX += x.X_0;\n",
    "        X = sumX;\n",
    "'''"
   ]
  },
  {
   "cell_type": "code",
   "execution_count": 17,
   "metadata": {},
   "outputs": [],
   "source": [
    "outs = \"\"\n",
    "for x in rmlist:\n",
    "    outs += inis.replace(\"X\",x);\n",
    "OUT = open(\"out.cpp\",\"w\")\n",
    "OUT.write(outs)\n",
    "OUT.close()"
   ]
  },
  {
   "cell_type": "code",
   "execution_count": null,
   "metadata": {},
   "outputs": [],
   "source": []
  }
 ],
 "metadata": {
  "kernelspec": {
   "display_name": "base",
   "language": "python",
   "name": "python3"
  },
  "language_info": {
   "codemirror_mode": {
    "name": "ipython",
    "version": 3
   },
   "file_extension": ".py",
   "mimetype": "text/x-python",
   "name": "python",
   "nbconvert_exporter": "python",
   "pygments_lexer": "ipython3",
   "version": "3.11.5"
  }
 },
 "nbformat": 4,
 "nbformat_minor": 2
}
